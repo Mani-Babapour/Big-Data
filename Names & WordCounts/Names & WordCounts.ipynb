{
  "nbformat": 4,
  "nbformat_minor": 0,
  "metadata": {
    "colab": {
      "provenance": []
    },
    "kernelspec": {
      "name": "python3",
      "display_name": "Python 3"
    },
    "language_info": {
      "name": "python"
    }
  },
  "cells": [
    {
      "cell_type": "code",
      "execution_count": null,
      "metadata": {
        "id": "todGFlzPi-N0"
      },
      "outputs": [],
      "source": [
        "from pyspark import SparkContext"
      ]
    },
    {
      "cell_type": "markdown",
      "source": [
        "Q1"
      ],
      "metadata": {
        "id": "CnkImsDOnmx5"
      }
    },
    {
      "cell_type": "code",
      "source": [
        "sc = SparkContext(master = 'local[*]', appName = 'Log Example')"
      ],
      "metadata": {
        "id": "1WFdD3_Uj3L2"
      },
      "execution_count": null,
      "outputs": []
    },
    {
      "cell_type": "code",
      "source": [
        "name_rdd = sc.textFile('/content/name_question.txt')"
      ],
      "metadata": {
        "id": "YwVq3bJ0kEnL"
      },
      "execution_count": null,
      "outputs": []
    },
    {
      "cell_type": "code",
      "source": [
        "name_rdd.collect()"
      ],
      "metadata": {
        "colab": {
          "base_uri": "https://localhost:8080/"
        },
        "id": "-jnV0xjAkO2r",
        "outputId": "31e38e65-728f-4cb0-c81a-fd0eb361a992"
      },
      "execution_count": null,
      "outputs": [
        {
          "output_type": "execute_result",
          "data": {
            "text/plain": [
              "['ali',\n",
              " 'vahid',\n",
              " 'maryam',\n",
              " 'ava',\n",
              " 'zahra',\n",
              " 'farid',\n",
              " 'sima',\n",
              " 'hamed',\n",
              " 'parvin',\n",
              " 'farhad',\n",
              " 'bahar',\n",
              " 'radin',\n",
              " 'siavash',\n",
              " 'atefe',\n",
              " 'khosro',\n",
              " 'ali',\n",
              " 'afagh',\n",
              " 'mihan',\n",
              " 'iran',\n",
              " 'dariush',\n",
              " 'mani',\n",
              " 'parvins']"
            ]
          },
          "metadata": {},
          "execution_count": 4
        }
      ]
    },
    {
      "cell_type": "code",
      "source": [
        "def item_length(item):\n",
        "  return (len(item), item)"
      ],
      "metadata": {
        "id": "JZQGYylskRYD"
      },
      "execution_count": null,
      "outputs": []
    },
    {
      "cell_type": "code",
      "source": [
        "len_name_rdd = name_rdd.map(item_length)"
      ],
      "metadata": {
        "id": "dc0ZG-q5mZAk"
      },
      "execution_count": null,
      "outputs": []
    },
    {
      "cell_type": "code",
      "source": [
        "same_len_rdd = len_name_rdd.groupByKey()"
      ],
      "metadata": {
        "id": "j1-gTNMUmiKa"
      },
      "execution_count": null,
      "outputs": []
    },
    {
      "cell_type": "code",
      "source": [
        "same_len_rdd.map(lambda x: (x[0], list(x[1]))).collect()"
      ],
      "metadata": {
        "colab": {
          "base_uri": "https://localhost:8080/"
        },
        "id": "XqfpQDvgm9uL",
        "outputId": "0164da29-6eca-43e0-c151-c03c1a35a7e6"
      },
      "execution_count": null,
      "outputs": [
        {
          "output_type": "execute_result",
          "data": {
            "text/plain": [
              "[(6, ['maryam', 'parvin', 'farhad', 'khosro']),\n",
              " (4, ['sima', 'iran', 'mani']),\n",
              " (3, ['ali', 'ava', 'ali']),\n",
              " (5,\n",
              "  ['vahid',\n",
              "   'zahra',\n",
              "   'farid',\n",
              "   'hamed',\n",
              "   'bahar',\n",
              "   'radin',\n",
              "   'atefe',\n",
              "   'afagh',\n",
              "   'mihan']),\n",
              " (7, ['siavash', 'dariush', 'parvins'])]"
            ]
          },
          "metadata": {},
          "execution_count": 16
        }
      ]
    },
    {
      "cell_type": "markdown",
      "source": [
        "Q2"
      ],
      "metadata": {
        "id": "cq9_T_qdnpM-"
      }
    },
    {
      "cell_type": "code",
      "source": [
        "book_rdd = sc.textFile('/content/WordCount')"
      ],
      "metadata": {
        "id": "9ZIuBI_Ynqih"
      },
      "execution_count": null,
      "outputs": []
    },
    {
      "cell_type": "code",
      "source": [
        "book_rdd.take(5)"
      ],
      "metadata": {
        "colab": {
          "base_uri": "https://localhost:8080/"
        },
        "id": "ieILiku8oe1q",
        "outputId": "13d3f3a1-12d5-482d-84b2-eb6cf82a3718"
      },
      "execution_count": null,
      "outputs": [
        {
          "output_type": "execute_result",
          "data": {
            "text/plain": [
              "['The Project Gutenberg EBook of The Outline of Science, Vol. 1 (of 4), by',\n",
              " 'J. Arthur Thomson',\n",
              " '',\n",
              " 'This eBook is for the use of anyone anywhere at no cost and with',\n",
              " 'almost no restrictions whatsoever.  You may copy it, give it away or']"
            ]
          },
          "metadata": {},
          "execution_count": 22
        }
      ]
    },
    {
      "cell_type": "code",
      "source": [
        "word_rdd = book_rdd.flatMap(lambda x : (x.split(' ')))"
      ],
      "metadata": {
        "id": "zJGTYT93o4W9"
      },
      "execution_count": null,
      "outputs": []
    },
    {
      "cell_type": "code",
      "source": [
        "word_rdd.take(10)"
      ],
      "metadata": {
        "colab": {
          "base_uri": "https://localhost:8080/"
        },
        "id": "vHF0B0i1pCVq",
        "outputId": "a8430d4f-7a51-48ae-ddce-4348179bd571"
      },
      "execution_count": null,
      "outputs": [
        {
          "output_type": "execute_result",
          "data": {
            "text/plain": [
              "['The',\n",
              " 'Project',\n",
              " 'Gutenberg',\n",
              " 'EBook',\n",
              " 'of',\n",
              " 'The',\n",
              " 'Outline',\n",
              " 'of',\n",
              " 'Science,',\n",
              " 'Vol.']"
            ]
          },
          "metadata": {},
          "execution_count": 34
        }
      ]
    },
    {
      "cell_type": "code",
      "source": [
        "word_number_rdd = word_rdd.map(lambda x : (x, 1))"
      ],
      "metadata": {
        "id": "YNJNuIu-phC6"
      },
      "execution_count": null,
      "outputs": []
    },
    {
      "cell_type": "code",
      "source": [
        "word_number_rdd.take(5)"
      ],
      "metadata": {
        "colab": {
          "base_uri": "https://localhost:8080/"
        },
        "id": "wtLAm3HTq9bZ",
        "outputId": "4fb6390a-2060-44b5-d4bf-3c9e4a9f3243"
      },
      "execution_count": null,
      "outputs": [
        {
          "output_type": "execute_result",
          "data": {
            "text/plain": [
              "[('The', 1), ('Project', 1), ('Gutenberg', 1), ('EBook', 1), ('of', 1)]"
            ]
          },
          "metadata": {},
          "execution_count": 36
        }
      ]
    },
    {
      "cell_type": "code",
      "source": [
        "result_rdd = word_number_rdd.reduceByKey(lambda x , y : x + y)"
      ],
      "metadata": {
        "id": "c1V1Sd6FrDSq"
      },
      "execution_count": null,
      "outputs": []
    },
    {
      "cell_type": "code",
      "source": [
        "result_rdd.take(5)"
      ],
      "metadata": {
        "colab": {
          "base_uri": "https://localhost:8080/"
        },
        "id": "Ptbvfhi7rmIJ",
        "outputId": "1a2b1cac-4d21-46e5-d378-be98a14c27cb"
      },
      "execution_count": null,
      "outputs": [
        {
          "output_type": "execute_result",
          "data": {
            "text/plain": [
              "[('EBook', 26), ('of', 91286), ('Science,', 34), ('', 180182), ('eBook', 96)]"
            ]
          },
          "metadata": {},
          "execution_count": 40
        }
      ]
    },
    {
      "cell_type": "code",
      "source": [],
      "metadata": {
        "id": "_ksD_lDzrplo"
      },
      "execution_count": null,
      "outputs": []
    }
  ]
}