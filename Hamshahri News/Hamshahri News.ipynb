{
  "cells": [
    {
      "cell_type": "code",
      "execution_count": null,
      "metadata": {
        "colab": {
          "base_uri": "https://localhost:8080/",
          "height": 1000
        },
        "collapsed": true,
        "id": "A_QvahOgScWT",
        "outputId": "655836da-75f2-404c-ee9d-085e73399e6e"
      },
      "outputs": [],
      "source": [
        "!pip install hazm"
      ]
    },
    {
      "cell_type": "code",
      "execution_count": null,
      "metadata": {
        "id": "l0gFOXdwPFyq"
      },
      "outputs": [],
      "source": [
        "import os\n",
        "import json\n",
        "import string\n",
        "from hazm import Normalizer, word_tokenize, stopwords_list\n",
        "from pyspark.sql import SparkSession\n",
        "from pyspark.sql.functions import *\n",
        "from pyspark.ml.feature import NGram"
      ]
    },
    {
      "cell_type": "code",
      "execution_count": null,
      "metadata": {
        "id": "oC85qWk7JOHd"
      },
      "outputs": [],
      "source": [
        "# Rename all news files\n",
        "folder_path = \"/content/Hamshahri\"\n",
        "files = sorted(os.listdir(folder_path))\n",
        "\n",
        "for idx, filename in enumerate(files):\n",
        "    old_path = os.path.join(folder_path, filename)\n",
        "    new_filename = f\"N{idx+1}.txt\"\n",
        "    new_path = os.path.join(folder_path, new_filename)\n",
        "    os.rename(old_path, new_path)"
      ]
    },
    {
      "cell_type": "markdown",
      "metadata": {
        "id": "UJGnykxqTdrY"
      },
      "source": [
        "#Preprocessing\n",
        "\n",
        "*   Removing Stopwords\n",
        "*   Normalizing Data\n",
        "\n",
        "\n"
      ]
    },
    {
      "cell_type": "code",
      "execution_count": null,
      "metadata": {
        "id": "fI8bIeczqJbe"
      },
      "outputs": [],
      "source": [
        "# Paths\n",
        "input_dir = \"/content/Hamshahri\"\n",
        "output_dir = \"/content/processed_news\"\n",
        "os.makedirs(output_dir, exist_ok=True)"
      ]
    },
    {
      "cell_type": "code",
      "execution_count": null,
      "metadata": {
        "id": "sL280MC0qYyZ"
      },
      "outputs": [],
      "source": [
        "normalizer = Normalizer()\n",
        "stopwords = set(stopwords_list())"
      ]
    },
    {
      "cell_type": "code",
      "execution_count": null,
      "metadata": {
        "id": "H8F-7gygqZhp"
      },
      "outputs": [],
      "source": [
        "persian_punctuations = \"،؛؟«».\"\n",
        "all_punctuations = set(string.punctuation + persian_punctuations)\n",
        "special_stopwords = ['..','...',':.','+تا','!؟']\n",
        "for file_name in os.listdir(input_dir):\n",
        "  if not file_name.endswith(\".txt\"):\n",
        "        continue\n",
        "  file_path = os.path.join(input_dir, file_name)\n",
        "  with open(file_path, 'r', encoding='utf-8') as file:\n",
        "    content = file.read()\n",
        "    try:\n",
        "      data = json.loads(content)\n",
        "    except:\n",
        "      continue\n",
        "    raw_text = data.get(\"text\", \"\")\n",
        "    # Normalize text, tokenize, and remove stopwords and punctuation\n",
        "    normalized = normalizer.normalize(raw_text)\n",
        "    tokens = word_tokenize(normalized)\n",
        "    cleaned_tokens = [word for word in tokens if word not in stopwords and word not in all_punctuations and word not in special_stopwords]\n",
        "    cleaned_text = ' '.join(cleaned_tokens)\n",
        "\n",
        "    output_file_path = os.path.join(output_dir, file_name)\n",
        "    with open(output_file_path, 'w', encoding='utf-8') as out_file:\n",
        "      out_file.write(cleaned_text)\n"
      ]
    },
    {
      "cell_type": "markdown",
      "metadata": {
        "id": "MwBM9NQ10N0e"
      },
      "source": [
        "# Spark Sql"
      ]
    },
    {
      "cell_type": "code",
      "execution_count": null,
      "metadata": {
        "id": "SX970OZARUux"
      },
      "outputs": [],
      "source": [
        "spark = SparkSession.builder.master('local[*]').appName('Spark_SQL_Hamshahri').getOrCreate()"
      ]
    },
    {
      "cell_type": "code",
      "execution_count": null,
      "metadata": {
        "colab": {
          "base_uri": "https://localhost:8080/"
        },
        "id": "3SWBj1g1xzkS",
        "outputId": "f829e832-15bd-4d95-f0ad-43d4fb9f5b45"
      },
      "outputs": [
        {
          "name": "stdout",
          "output_type": "stream",
          "text": [
            "+--------------------+\n",
            "|               value|\n",
            "+--------------------+\n",
            "|صبح روز پنجشنبه ۳...|\n",
            "|بدینسان فضای عینی...|\n",
            "|فوتبال مساله مستق...|\n",
            "|نگاهی تازه بنادر ...|\n",
            "|اشاره متن حاضر اد...|\n",
            "+--------------------+\n",
            "only showing top 5 rows\n",
            "\n"
          ]
        }
      ],
      "source": [
        "directory = '/content/processed_news'\n",
        "df = spark.read.text(directory)\n",
        "df.show(5)"
      ]
    },
    {
      "cell_type": "code",
      "execution_count": 331,
      "metadata": {
        "id": "nfFFhXlo2BO9"
      },
      "outputs": [],
      "source": [
        "split_data = df.select(split(split(input_file_name(), \"/\")[5],'\\\\.')[0].alias(\"file_name\"),\n",
        "                       split(col(\"value\"), \" \").alias('words'))"
      ]
    },
    {
      "cell_type": "code",
      "execution_count": 332,
      "metadata": {
        "colab": {
          "base_uri": "https://localhost:8080/"
        },
        "id": "UB_pgbUWLVPt",
        "outputId": "055f7636-2aa6-4b6a-b89e-853bbffe7753"
      },
      "outputs": [
        {
          "name": "stdout",
          "output_type": "stream",
          "text": [
            "+---------+--------------------+\n",
            "|file_name|               words|\n",
            "+---------+--------------------+\n",
            "|     N197|[صبح, روز, پنجشنب...|\n",
            "|     N201|[بدینسان, فضای, ع...|\n",
            "|     N305|[فوتبال, مساله, م...|\n",
            "|     N403|[نگاهی, تازه, بنا...|\n",
            "|     N115|[اشاره, متن, حاضر...|\n",
            "+---------+--------------------+\n",
            "only showing top 5 rows\n",
            "\n"
          ]
        }
      ],
      "source": [
        "split_data.show(5)"
      ]
    },
    {
      "cell_type": "markdown",
      "metadata": {
        "id": "v8scfpTuxw41"
      },
      "source": [
        "#Uni-Gram"
      ]
    },
    {
      "cell_type": "code",
      "execution_count": 333,
      "metadata": {
        "id": "Tjl6w7-dJpNk"
      },
      "outputs": [],
      "source": [
        "df_unigram_exploded = split_data.withColumn(\"word\", explode(\"words\"))"
      ]
    },
    {
      "cell_type": "code",
      "execution_count": 334,
      "metadata": {
        "colab": {
          "base_uri": "https://localhost:8080/"
        },
        "id": "SdLYygqme_8V",
        "outputId": "00ee4f1e-1d22-426d-dc24-edbd551b5b71"
      },
      "outputs": [
        {
          "name": "stdout",
          "output_type": "stream",
          "text": [
            "+---------+--------------------+-------+\n",
            "|file_name|               words|   word|\n",
            "+---------+--------------------+-------+\n",
            "|     N197|[صبح, روز, پنجشنب...|    صبح|\n",
            "|     N197|[صبح, روز, پنجشنب...|    روز|\n",
            "|     N197|[صبح, روز, پنجشنب...|پنجشنبه|\n",
            "|     N197|[صبح, روز, پنجشنب...|     ۳۰|\n",
            "|     N197|[صبح, روز, پنجشنب...|  خرداد|\n",
            "+---------+--------------------+-------+\n",
            "only showing top 5 rows\n",
            "\n"
          ]
        }
      ],
      "source": [
        "df_unigram_exploded.show(5)"
      ]
    },
    {
      "cell_type": "code",
      "execution_count": 335,
      "metadata": {
        "id": "G4sdzKJWfXV-"
      },
      "outputs": [],
      "source": [
        "df_unigram_counts = df_unigram_exploded.groupBy('word','file_name').agg(count('*').alias(\"count\"))"
      ]
    },
    {
      "cell_type": "code",
      "execution_count": 336,
      "metadata": {
        "colab": {
          "base_uri": "https://localhost:8080/"
        },
        "id": "N-ovsc7iGc6M",
        "outputId": "e14be3b0-0db2-4c83-cbe6-955e26f0c32f"
      },
      "outputs": [
        {
          "name": "stdout",
          "output_type": "stream",
          "text": [
            "+--------+---------+-----+\n",
            "|word    |file_name|count|\n",
            "+--------+---------+-----+\n",
            "|اساس    |N197     |4    |\n",
            "|منطقه   |N197     |7    |\n",
            "|وباوری  |N201     |1    |\n",
            "|ذوق     |N201     |1    |\n",
            "|درواقعیت|N201     |2    |\n",
            "+--------+---------+-----+\n",
            "only showing top 5 rows\n",
            "\n"
          ]
        }
      ],
      "source": [
        "df_unigram_counts.show(5, truncate = False)"
      ]
    },
    {
      "cell_type": "code",
      "execution_count": 337,
      "metadata": {
        "id": "MntvXR3GFc13"
      },
      "outputs": [],
      "source": [
        "df_unigram_formatted = df_unigram_counts.withColumn(\"formatted\", concat(col(\"file_name\"), lit(\"[\"), col(\"count\").cast(\"string\"), lit(\"]\")))"
      ]
    },
    {
      "cell_type": "code",
      "execution_count": 338,
      "metadata": {
        "colab": {
          "base_uri": "https://localhost:8080/"
        },
        "id": "qSqyvUW9Fzx8",
        "outputId": "7df5c5bc-68a0-434f-8fcd-2342b8e4d634"
      },
      "outputs": [
        {
          "name": "stdout",
          "output_type": "stream",
          "text": [
            "+--------+---------+-----+---------+\n",
            "|word    |file_name|count|formatted|\n",
            "+--------+---------+-----+---------+\n",
            "|اساس    |N197     |4    |N197[4]  |\n",
            "|منطقه   |N197     |7    |N197[7]  |\n",
            "|وباوری  |N201     |1    |N201[1]  |\n",
            "|ذوق     |N201     |1    |N201[1]  |\n",
            "|درواقعیت|N201     |2    |N201[2]  |\n",
            "+--------+---------+-----+---------+\n",
            "only showing top 5 rows\n",
            "\n"
          ]
        }
      ],
      "source": [
        "df_unigram_formatted.show(5, truncate= False)"
      ]
    },
    {
      "cell_type": "code",
      "execution_count": 339,
      "metadata": {
        "id": "swNe94ZmF4mj"
      },
      "outputs": [],
      "source": [
        "df_unigram = df_unigram_formatted.groupBy('word').agg(collect_list('formatted').alias('news_info'))"
      ]
    },
    {
      "cell_type": "code",
      "execution_count": 340,
      "metadata": {
        "colab": {
          "base_uri": "https://localhost:8080/"
        },
        "id": "wyvrfVULGx3M",
        "outputId": "7d83de9a-cb42-45a4-d6cd-084838603fe6"
      },
      "outputs": [
        {
          "name": "stdout",
          "output_type": "stream",
          "text": [
            "+--------------+---------+\n",
            "|word          |news_info|\n",
            "+--------------+---------+\n",
            "|A             |[N526[1]]|\n",
            "|ABU           |[N305[1]]|\n",
            "|ARIDIJISHOMERO|[N516[1]]|\n",
            "|Alberto       |[N183[1]]|\n",
            "|Andreini      |[N288[1]]|\n",
            "|Antilpe       |[N159[1]]|\n",
            "|Aranda        |[N383[1]]|\n",
            "|Arctostaphylos|[N448[1]]|\n",
            "|Art           |[N288[1]]|\n",
            "|BLACK         |[N159[1]]|\n",
            "+--------------+---------+\n",
            "only showing top 10 rows\n",
            "\n"
          ]
        }
      ],
      "source": [
        "df_unigram.show(10, truncate= False)"
      ]
    },
    {
      "cell_type": "markdown",
      "metadata": {
        "id": "Z6e_V6cbWdOx"
      },
      "source": [
        "#Bi-Gram"
      ]
    },
    {
      "cell_type": "code",
      "execution_count": 341,
      "metadata": {
        "id": "-LRDsNX5gIwY"
      },
      "outputs": [],
      "source": [
        "bigram_ngram = NGram(n=2, inputCol=\"words\", outputCol=\"BiGrams\")\n",
        "bigram_data = bigram_ngram.transform(split_data)"
      ]
    },
    {
      "cell_type": "code",
      "execution_count": null,
      "metadata": {
        "colab": {
          "base_uri": "https://localhost:8080/"
        },
        "id": "hhgNcxJt0pxs",
        "outputId": "e5ed2645-9aac-49b2-fa95-f3b8a0930cbe"
      },
      "outputs": [],
      "source": [
        "bigram_data.show(5, truncate=  False)"
      ]
    },
    {
      "cell_type": "code",
      "execution_count": 343,
      "metadata": {
        "id": "Toy9P5_2d9CY"
      },
      "outputs": [],
      "source": [
        "df_bigram_exploded = bigram_data.withColumn(\"bigram\", explode(\"BiGrams\"))"
      ]
    },
    {
      "cell_type": "code",
      "execution_count": 344,
      "metadata": {
        "colab": {
          "base_uri": "https://localhost:8080/"
        },
        "id": "hBYl_Xp40mzM",
        "outputId": "4fb8b372-d673-4c2e-e013-33dcc1e468e7"
      },
      "outputs": [
        {
          "name": "stdout",
          "output_type": "stream",
          "text": [
            "+---------+--------------------+--------------------+---------------+\n",
            "|file_name|               words|             BiGrams|         bigram|\n",
            "+---------+--------------------+--------------------+---------------+\n",
            "|     N197|[صبح, روز, پنجشنب...|[صبح روز, روز پنج...|        صبح روز|\n",
            "|     N197|[صبح, روز, پنجشنب...|[صبح روز, روز پنج...|    روز پنجشنبه|\n",
            "|     N197|[صبح, روز, پنجشنب...|[صبح روز, روز پنج...|     پنجشنبه ۳۰|\n",
            "|     N197|[صبح, روز, پنجشنب...|[صبح روز, روز پنج...|       ۳۰ خرداد|\n",
            "|     N197|[صبح, روز, پنجشنب...|[صبح روز, روز پنج...|      خرداد ماه|\n",
            "|     N197|[صبح, روز, پنجشنب...|[صبح روز, روز پنج...|      ماه امسال|\n",
            "|     N197|[صبح, روز, پنجشنب...|[صبح روز, روز پنج...|امسال خیابانهای|\n",
            "|     N197|[صبح, روز, پنجشنب...|[صبح روز, روز پنج...| خیابانهای فرعی|\n",
            "|     N197|[صبح, روز, پنجشنب...|[صبح روز, روز پنج...|   فرعی مرکزشهر|\n",
            "|     N197|[صبح, روز, پنجشنب...|[صبح روز, روز پنج...|  مرکزشهر تهران|\n",
            "+---------+--------------------+--------------------+---------------+\n",
            "only showing top 10 rows\n",
            "\n"
          ]
        }
      ],
      "source": [
        "df_bigram_exploded.show(10)"
      ]
    },
    {
      "cell_type": "code",
      "execution_count": 345,
      "metadata": {
        "id": "xpiTBQEiRCsV"
      },
      "outputs": [],
      "source": [
        "df_bigram_counts = df_bigram_exploded.groupBy('bigram','file_name').agg(count('*').alias(\"count\"))"
      ]
    },
    {
      "cell_type": "code",
      "execution_count": 346,
      "metadata": {
        "colab": {
          "base_uri": "https://localhost:8080/"
        },
        "id": "QLwiJ292RhfO",
        "outputId": "5a90fd93-8052-4fb0-c007-9463b3c8591c"
      },
      "outputs": [
        {
          "name": "stdout",
          "output_type": "stream",
          "text": [
            "+-----------------+---------+-----+\n",
            "|bigram           |file_name|count|\n",
            "+-----------------+---------+-----+\n",
            "|تازه پسرم        |N197     |1    |\n",
            "|روشنایی درآورد   |N197     |1    |\n",
            "|مطابق معیارهای   |N197     |1    |\n",
            "|تحصیل فرزندان    |N197     |2    |\n",
            "|ناچاری می‌پردازند|N197     |1    |\n",
            "+-----------------+---------+-----+\n",
            "only showing top 5 rows\n",
            "\n"
          ]
        }
      ],
      "source": [
        "df_bigram_counts.show(5, truncate = False)"
      ]
    },
    {
      "cell_type": "code",
      "execution_count": 347,
      "metadata": {
        "id": "3izu7bVt1Ybs"
      },
      "outputs": [],
      "source": [
        "df_bigram_formatted = df_bigram_counts.withColumn(\"formatted\", concat(col(\"file_name\"), lit(\"[\"), col(\"count\").cast(\"string\"), lit(\"]\")))"
      ]
    },
    {
      "cell_type": "code",
      "execution_count": 348,
      "metadata": {
        "colab": {
          "base_uri": "https://localhost:8080/"
        },
        "id": "sHA1xd9PSX6e",
        "outputId": "a0829c7c-db63-4347-8112-1d77c55109e3"
      },
      "outputs": [
        {
          "name": "stdout",
          "output_type": "stream",
          "text": [
            "+-----------------+---------+-----+---------+\n",
            "|bigram           |file_name|count|formatted|\n",
            "+-----------------+---------+-----+---------+\n",
            "|تازه پسرم        |N197     |1    |N197[1]  |\n",
            "|روشنایی درآورد   |N197     |1    |N197[1]  |\n",
            "|مطابق معیارهای   |N197     |1    |N197[1]  |\n",
            "|تحصیل فرزندان    |N197     |2    |N197[2]  |\n",
            "|ناچاری می‌پردازند|N197     |1    |N197[1]  |\n",
            "+-----------------+---------+-----+---------+\n",
            "only showing top 5 rows\n",
            "\n"
          ]
        }
      ],
      "source": [
        "df_bigram_formatted.show(5, truncate= False)"
      ]
    },
    {
      "cell_type": "code",
      "execution_count": 349,
      "metadata": {
        "id": "i9VJ1QfbS1yj"
      },
      "outputs": [],
      "source": [
        "df_bigram = df_bigram_formatted.groupBy('bigram').agg(collect_list('formatted').alias('news_info'))"
      ]
    },
    {
      "cell_type": "code",
      "execution_count": 350,
      "metadata": {
        "colab": {
          "base_uri": "https://localhost:8080/"
        },
        "id": "iN44_HS-TPge",
        "outputId": "5ee3bce4-fe86-4a00-f6bf-06965cd3ec88"
      },
      "outputs": [
        {
          "name": "stdout",
          "output_type": "stream",
          "text": [
            "+------------------------------+---------+\n",
            "|bigram                        |news_info|\n",
            "+------------------------------+---------+\n",
            "|ABU اتحادیه                   |[N305[1]]|\n",
            "|Alberto Villamiza             |[N183[1]]|\n",
            "|Andreini ۱۶۰۴۱۵۶۲             |[N288[1]]|\n",
            "|Antilpe cervicapraنام         |[N159[1]]|\n",
            "|Aranda کارگردان               |[N383[1]]|\n",
            "|Arctostaphylos alpina         |[N448[1]]|\n",
            "|BORAGINACEAE گیاه             |[N359[1]]|\n",
            "|BUCKخانواده گاوسانان          |[N159[1]]|\n",
            "|Caesalpinia Pulcherrimaخانواده|[N160[1]]|\n",
            "|Cayman Ilands                 |[N216[1]]|\n",
            "+------------------------------+---------+\n",
            "only showing top 10 rows\n",
            "\n"
          ]
        }
      ],
      "source": [
        "df_bigram.show(10, truncate= False)"
      ]
    },
    {
      "cell_type": "markdown",
      "metadata": {
        "id": "FR-wE0jz4evi"
      },
      "source": [
        "#Tri-Gram"
      ]
    },
    {
      "cell_type": "code",
      "execution_count": 351,
      "metadata": {
        "id": "QUBe7Lij1-E8"
      },
      "outputs": [],
      "source": [
        "trigram_ngram = NGram(n=3, inputCol=\"words\", outputCol=\"TriGrams\")\n",
        "trigram_data = trigram_ngram.transform(split_data)"
      ]
    },
    {
      "cell_type": "code",
      "execution_count": null,
      "metadata": {
        "colab": {
          "base_uri": "https://localhost:8080/"
        },
        "id": "EtLGeGzw5H_K",
        "outputId": "1f526226-7142-4a06-97c6-610e4f84152c"
      },
      "outputs": [],
      "source": [
        "trigram_data.show(5, truncate= False)"
      ]
    },
    {
      "cell_type": "code",
      "execution_count": 353,
      "metadata": {
        "id": "1QKf4aBZ5Mza"
      },
      "outputs": [],
      "source": [
        "df_trigram_exploded = trigram_data.withColumn(\"trigram\", explode(\"TriGrams\"))"
      ]
    },
    {
      "cell_type": "code",
      "execution_count": 354,
      "metadata": {
        "colab": {
          "base_uri": "https://localhost:8080/"
        },
        "id": "Pc_FYLwO5t2C",
        "outputId": "36a7afed-ce7b-4db2-c668-6c6ee8fc2c72"
      },
      "outputs": [
        {
          "name": "stdout",
          "output_type": "stream",
          "text": [
            "+---------+--------------------+--------------------+----------------+\n",
            "|file_name|               words|            TriGrams|         trigram|\n",
            "+---------+--------------------+--------------------+----------------+\n",
            "|     N197|[صبح, روز, پنجشنب...|[صبح روز پنجشنبه,...| صبح روز پنجشنبه|\n",
            "|     N197|[صبح, روز, پنجشنب...|[صبح روز پنجشنبه,...|  روز پنجشنبه ۳۰|\n",
            "|     N197|[صبح, روز, پنجشنب...|[صبح روز پنجشنبه,...|پنجشنبه ۳۰ خرداد|\n",
            "|     N197|[صبح, روز, پنجشنب...|[صبح روز پنجشنبه,...|    ۳۰ خرداد ماه|\n",
            "|     N197|[صبح, روز, پنجشنب...|[صبح روز پنجشنبه,...| خرداد ماه امسال|\n",
            "+---------+--------------------+--------------------+----------------+\n",
            "only showing top 5 rows\n",
            "\n"
          ]
        }
      ],
      "source": [
        "df_trigram_exploded.show(5)"
      ]
    },
    {
      "cell_type": "code",
      "execution_count": 355,
      "metadata": {
        "id": "mtRX0N06TzBW"
      },
      "outputs": [],
      "source": [
        "df_trigram_counts = df_trigram_exploded.groupBy('trigram','file_name').agg(count('*').alias(\"count\"))"
      ]
    },
    {
      "cell_type": "code",
      "execution_count": 356,
      "metadata": {
        "colab": {
          "base_uri": "https://localhost:8080/"
        },
        "id": "LZWVWTMpEaR1",
        "outputId": "3b20caf9-dc85-485c-8643-cd8a7272a01f"
      },
      "outputs": [
        {
          "name": "stdout",
          "output_type": "stream",
          "text": [
            "+-----------------------+---------+-----+\n",
            "|trigram                |file_name|count|\n",
            "+-----------------------+---------+-----+\n",
            "|طریق تلویزیون دنبال    |N197     |1    |\n",
            "|تازه پسرم امتحان       |N197     |1    |\n",
            "|فرزندانش مدرسه‌ای مطابق|N197     |1    |\n",
            "|سپری کارشناس پدردو     |N197     |1    |\n",
            "|وجه اضافی بازپرداخت    |N197     |1    |\n",
            "+-----------------------+---------+-----+\n",
            "only showing top 5 rows\n",
            "\n"
          ]
        }
      ],
      "source": [
        "df_trigram_counts.show(5, truncate= False)"
      ]
    },
    {
      "cell_type": "code",
      "execution_count": 357,
      "metadata": {
        "id": "2fx8B1RrUENG"
      },
      "outputs": [],
      "source": [
        "df_trigram_formatted = df_trigram_counts.withColumn(\"formatted\", concat(col(\"file_name\"), lit(\"[\"), col(\"count\").cast(\"string\"), lit(\"]\")))"
      ]
    },
    {
      "cell_type": "code",
      "execution_count": 358,
      "metadata": {
        "colab": {
          "base_uri": "https://localhost:8080/"
        },
        "id": "fFf5G1_wU5FV",
        "outputId": "7a9b6a6e-5fab-4af5-d331-6c840f7d28db"
      },
      "outputs": [
        {
          "name": "stdout",
          "output_type": "stream",
          "text": [
            "+-----------------------+---------+-----+---------+\n",
            "|trigram                |file_name|count|formatted|\n",
            "+-----------------------+---------+-----+---------+\n",
            "|طریق تلویزیون دنبال    |N197     |1    |N197[1]  |\n",
            "|تازه پسرم امتحان       |N197     |1    |N197[1]  |\n",
            "|فرزندانش مدرسه‌ای مطابق|N197     |1    |N197[1]  |\n",
            "|سپری کارشناس پدردو     |N197     |1    |N197[1]  |\n",
            "|وجه اضافی بازپرداخت    |N197     |1    |N197[1]  |\n",
            "+-----------------------+---------+-----+---------+\n",
            "only showing top 5 rows\n",
            "\n"
          ]
        }
      ],
      "source": [
        "df_trigram_formatted.show(5, truncate= False)"
      ]
    },
    {
      "cell_type": "code",
      "execution_count": 359,
      "metadata": {
        "id": "E79l0m5hU9G0"
      },
      "outputs": [],
      "source": [
        "df_trigram = df_trigram_formatted.groupBy('trigram').agg(collect_list('formatted').alias('news_info'))"
      ]
    },
    {
      "cell_type": "code",
      "execution_count": 360,
      "metadata": {
        "colab": {
          "base_uri": "https://localhost:8080/"
        },
        "id": "Zlka0gs4VEm8",
        "outputId": "02776683-8db0-4d51-af61-fe8381b9626f"
      },
      "outputs": [
        {
          "name": "stdout",
          "output_type": "stream",
          "text": [
            "+-----------------------------+------------------------------------+\n",
            "|trigram                      |news_info                           |\n",
            "+-----------------------------+------------------------------------+\n",
            "|Alberto Villamiza خانم       |[N183[1]]                           |\n",
            "|Arctostaphylos alpina خانواده|[N448[1]]                           |\n",
            "|BLACK BUCKخانواده گاوسانان   |[N159[1]]                           |\n",
            "|Bennett راببنت انگلیسی       |[N206[1]]                           |\n",
            "|Bombs ویروسهای کامپیوتری     |[N408[1]]                           |\n",
            "|Bovidae راسته زوج            |[N272[1], N548[1], N159[1], N446[1]]|\n",
            "|C E ۶۴۵۰                     |[N196[1]]                           |\n",
            "|Capra Falconeirنام انگلیسی   |[N446[1]]                           |\n",
            "|Capra ibex نام               |[N272[1]]                           |\n",
            "|Commedia نمایش واقع          |[N288[1]]                           |\n",
            "+-----------------------------+------------------------------------+\n",
            "only showing top 10 rows\n",
            "\n"
          ]
        }
      ],
      "source": [
        "df_trigram.show(10, truncate= False)"
      ]
    },
    {
      "cell_type": "markdown",
      "metadata": {
        "id": "mBMu8xXzacxc"
      },
      "source": [
        "#Top 2Gram"
      ]
    },
    {
      "cell_type": "code",
      "execution_count": 361,
      "metadata": {
        "id": "RpRDUH3qYw3y"
      },
      "outputs": [],
      "source": [
        "bigram_top_30 = df_bigram_formatted.groupBy('bigram').agg(count('formatted').alias('count')).orderBy('count', ascending = False)"
      ]
    },
    {
      "cell_type": "code",
      "execution_count": 362,
      "metadata": {
        "colab": {
          "base_uri": "https://localhost:8080/"
        },
        "id": "74VCFT2Cbdip",
        "outputId": "4d7e79d2-592f-4a17-dd4b-c7b4dcd71539"
      },
      "outputs": [
        {
          "name": "stdout",
          "output_type": "stream",
          "text": [
            "+---------------+-----+\n",
            "|bigram         |count|\n",
            "+---------------+-----+\n",
            "|جمهوری اسلامی  |67   |\n",
            "|خبرگزاری فرانسه|50   |\n",
            "|خبرنگار همشهری |50   |\n",
            "|گزارش خبرگزاری |49   |\n",
            "|سال گذشته      |36   |\n",
            "|سرویس ورزشی    |34   |\n",
            "|سرویس سیاسی    |32   |\n",
            "|سرویس شهری     |31   |\n",
            "|خبرگزاری جمهوری|30   |\n",
            "|روابط عمومی    |27   |\n",
            "|گزارش خبرنگار  |26   |\n",
            "|هفتم تیر       |25   |\n",
            "|اسلامی ایران   |24   |\n",
            "|انقلاب اسلامی  |23   |\n",
            "|رسانه‌های خارجی|21   |\n",
            "|شهرداری منطقه  |21   |\n",
            "|شهرداری تهران  |21   |\n",
            "|علاقه مندان    |20   |\n",
            "|واحد رسانه‌های |20   |\n",
            "|گزارش روابط    |18   |\n",
            "|دانش آموزان    |18   |\n",
            "|ریاست جمهوری   |18   |\n",
            "|شهر تهران      |18   |\n",
            "|جام ملتهای     |18   |\n",
            "|سرویس اقتصادی  |18   |\n",
            "|روز گذشته      |17   |\n",
            "|دکتر بهشتی     |16   |\n",
            "|تیم ملی        |16   |\n",
            "|علمی فرهنگی    |15   |\n",
            "|آموزش پرورش    |15   |\n",
            "+---------------+-----+\n",
            "only showing top 30 rows\n",
            "\n"
          ]
        }
      ],
      "source": [
        "bigram_top_30.show(30, truncate= False)"
      ]
    },
    {
      "cell_type": "markdown",
      "metadata": {
        "id": "t0YqeGPLg5j5"
      },
      "source": [
        "#Top 3Gram"
      ]
    },
    {
      "cell_type": "code",
      "execution_count": 363,
      "metadata": {
        "id": "AXm92-b3cg_R"
      },
      "outputs": [],
      "source": [
        "trigram_top_30 = df_trigram_formatted.groupBy('trigram').agg(count('formatted').alias('count')).orderBy('count', ascending = False)"
      ]
    },
    {
      "cell_type": "code",
      "execution_count": 364,
      "metadata": {
        "colab": {
          "base_uri": "https://localhost:8080/"
        },
        "id": "6X6WxpBIhAK3",
        "outputId": "4ef7a58d-3568-412b-d8af-27adc49567a1"
      },
      "outputs": [
        {
          "name": "stdout",
          "output_type": "stream",
          "text": [
            "+--------------------------+-----+\n",
            "|trigram                   |count|\n",
            "+--------------------------+-----+\n",
            "|خبرگزاری جمهوری اسلامی    |30   |\n",
            "|گزارش خبرگزاری فرانسه     |28   |\n",
            "|جمهوری اسلامی ایران       |24   |\n",
            "|واحد رسانه‌های خارجی      |20   |\n",
            "|گزارش روابط عمومی         |18   |\n",
            "|گزارش خبرگزاری جمهوری     |16   |\n",
            "|گزارش خبرنگار همشهری      |14   |\n",
            "|سرویس علمی فرهنگی         |14   |\n",
            "|مجلس شورای اسلامی         |14   |\n",
            "|هاشمی رفسنجانی رئیس‌جمهوری|11   |\n",
            "|آیت‌الله دکتر بهشتی       |11   |\n",
            "|جام ملتهای اروپا          |10   |\n",
            "|حزب جمهوری اسلامی         |10   |\n",
            "|شهدای هفتم تیر            |10   |\n",
            "|واحد مرکزی خبر            |10   |\n",
            "|گزارش واحد مرکزی          |10   |\n",
            "|فاجعه هفتم تیر            |9    |\n",
            "|رسانه‌های خارجی همشهری    |9    |\n",
            "|فوتبال جام ملتهای         |9    |\n",
            "|روابط عمومی سازمان        |8    |\n",
            "|موزه آثار طبیعی           |8    |\n",
            "|تیم ملی فوتبال            |8    |\n",
            "|حیات وحش ایران            |8    |\n",
            "|رئیس قوه قضائیه           |8    |\n",
            "|شهیدان هفتم تیر           |8    |\n",
            "|جام ملتهای آسیا           |8    |\n",
            "|آثار طبیعی حیات           |8    |\n",
            "|نظام جمهوری اسلامی        |8    |\n",
            "|طبیعی حیات وحش            |8    |\n",
            "|انتخابات ریاست جمهوری     |7    |\n",
            "+--------------------------+-----+\n",
            "only showing top 30 rows\n",
            "\n"
          ]
        }
      ],
      "source": [
        "trigram_top_30.show(30, truncate= False)"
      ]
    },
    {
      "cell_type": "code",
      "execution_count": 364,
      "metadata": {
        "id": "zZ19lAURlWiz"
      },
      "outputs": [],
      "source": []
    }
  ],
  "metadata": {
    "colab": {
      "provenance": []
    },
    "kernelspec": {
      "display_name": "Python 3",
      "name": "python3"
    },
    "language_info": {
      "name": "python"
    }
  },
  "nbformat": 4,
  "nbformat_minor": 0
}
