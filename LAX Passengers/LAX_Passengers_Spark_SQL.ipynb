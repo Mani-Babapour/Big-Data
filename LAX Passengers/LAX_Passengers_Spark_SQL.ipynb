{
  "nbformat": 4,
  "nbformat_minor": 0,
  "metadata": {
    "colab": {
      "provenance": []
    },
    "kernelspec": {
      "name": "python3",
      "display_name": "Python 3"
    },
    "language_info": {
      "name": "python"
    }
  },
  "cells": [
    {
      "cell_type": "code",
      "execution_count": 3,
      "metadata": {
        "id": "buG2n14cNhYs"
      },
      "outputs": [],
      "source": [
        "from pyspark.sql import SparkSession\n",
        "from pyspark.sql.functions import *"
      ]
    },
    {
      "cell_type": "code",
      "source": [
        "spark = SparkSession.builder.master('local[*]').appName('Spark SQL').getOrCreate()"
      ],
      "metadata": {
        "id": "89wD4K0GNp66"
      },
      "execution_count": 4,
      "outputs": []
    },
    {
      "cell_type": "code",
      "source": [
        "passengers_df = spark.read.csv('lax_passengers_header.csv', header = True, inferSchema = True)"
      ],
      "metadata": {
        "id": "lBiWCzy2NrdW"
      },
      "execution_count": 5,
      "outputs": []
    },
    {
      "cell_type": "code",
      "source": [
        "passengers_df.show(5)"
      ],
      "metadata": {
        "colab": {
          "base_uri": "https://localhost:8080/"
        },
        "id": "u-40IzuiODII",
        "outputId": "55dce589-5e77-4895-ac70-699972ed2629"
      },
      "execution_count": 6,
      "outputs": [
        {
          "output_type": "stream",
          "name": "stdout",
          "text": [
            "+--------------------+--------------------+-----------------+-----------------+----------------------+---------------+\n",
            "|     DataExtractDate|        ReportPeriod|         Terminal|Arrival_Departure|Domestic_International|Passenger_Count|\n",
            "+--------------------+--------------------+-----------------+-----------------+----------------------+---------------+\n",
            "|05/01/2014 12:00:...|01/01/2006 12:00:...|Imperial Terminal|          Arrival|              Domestic|            490|\n",
            "|05/01/2014 12:00:...|01/01/2006 12:00:...|Imperial Terminal|        Departure|              Domestic|            498|\n",
            "|05/01/2014 12:00:...|01/01/2006 12:00:...|   Misc. Terminal|          Arrival|              Domestic|            753|\n",
            "|05/01/2014 12:00:...|01/01/2006 12:00:...|   Misc. Terminal|        Departure|              Domestic|            688|\n",
            "|05/01/2014 12:00:...|01/01/2006 12:00:...|       Terminal 1|          Arrival|              Domestic|         401535|\n",
            "+--------------------+--------------------+-----------------+-----------------+----------------------+---------------+\n",
            "only showing top 5 rows\n",
            "\n"
          ]
        }
      ]
    },
    {
      "cell_type": "code",
      "source": [
        "passengers = passengers_df.select('ReportPeriod','Terminal','Passenger_Count')"
      ],
      "metadata": {
        "id": "PtvxneQ_OK9J"
      },
      "execution_count": 7,
      "outputs": []
    },
    {
      "cell_type": "code",
      "source": [
        "passengers.show(3)"
      ],
      "metadata": {
        "colab": {
          "base_uri": "https://localhost:8080/"
        },
        "id": "kvHihA7pO2Hx",
        "outputId": "ba842198-906c-42d3-a987-9ad0cb349d6f"
      },
      "execution_count": 8,
      "outputs": [
        {
          "output_type": "stream",
          "name": "stdout",
          "text": [
            "+--------------------+-----------------+---------------+\n",
            "|        ReportPeriod|         Terminal|Passenger_Count|\n",
            "+--------------------+-----------------+---------------+\n",
            "|01/01/2006 12:00:...|Imperial Terminal|            490|\n",
            "|01/01/2006 12:00:...|Imperial Terminal|            498|\n",
            "|01/01/2006 12:00:...|   Misc. Terminal|            753|\n",
            "+--------------------+-----------------+---------------+\n",
            "only showing top 3 rows\n",
            "\n"
          ]
        }
      ]
    },
    {
      "cell_type": "code",
      "source": [
        "approved_terminals = [f'Terminal {i}'for i in range(1,9)] + ['Tom Bradley International Terminal']"
      ],
      "metadata": {
        "id": "opLL3PnNP0B8"
      },
      "execution_count": 9,
      "outputs": []
    },
    {
      "cell_type": "code",
      "source": [
        "passengers = passengers.filter(passengers['Terminal'].isin(approved_terminals))"
      ],
      "metadata": {
        "id": "3wUrl_QfPtI3"
      },
      "execution_count": 10,
      "outputs": []
    },
    {
      "cell_type": "code",
      "source": [
        "passengers.show(5)"
      ],
      "metadata": {
        "colab": {
          "base_uri": "https://localhost:8080/"
        },
        "id": "fj8w2E7DQKJW",
        "outputId": "400bb9c0-f401-4e95-8788-d164922017b7"
      },
      "execution_count": 11,
      "outputs": [
        {
          "output_type": "stream",
          "name": "stdout",
          "text": [
            "+--------------------+----------+---------------+\n",
            "|        ReportPeriod|  Terminal|Passenger_Count|\n",
            "+--------------------+----------+---------------+\n",
            "|01/01/2006 12:00:...|Terminal 1|         401535|\n",
            "|01/01/2006 12:00:...|Terminal 1|         389745|\n",
            "|01/01/2006 12:00:...|Terminal 1|            561|\n",
            "|01/01/2006 12:00:...|Terminal 2|          98991|\n",
            "|01/01/2006 12:00:...|Terminal 2|         163067|\n",
            "+--------------------+----------+---------------+\n",
            "only showing top 5 rows\n",
            "\n"
          ]
        }
      ]
    },
    {
      "cell_type": "code",
      "source": [
        "passengers = passengers.select(split(passengers.ReportPeriod, '/')[0].alias('Month'),\n",
        "                  split(passengers.ReportPeriod, '/')[2].alias('Year'),\n",
        "                  'Terminal','Passenger_Count')"
      ],
      "metadata": {
        "id": "2MyxRyw3RQi3"
      },
      "execution_count": 12,
      "outputs": []
    },
    {
      "cell_type": "code",
      "source": [
        "passengers.show(5)"
      ],
      "metadata": {
        "colab": {
          "base_uri": "https://localhost:8080/"
        },
        "id": "KYcQQxut0E3l",
        "outputId": "1359ec64-fcb7-48f0-f7ec-8c14904fc4d2"
      },
      "execution_count": 13,
      "outputs": [
        {
          "output_type": "stream",
          "name": "stdout",
          "text": [
            "+-----+----------------+----------+---------------+\n",
            "|Month|            Year|  Terminal|Passenger_Count|\n",
            "+-----+----------------+----------+---------------+\n",
            "|   01|2006 12:00:00 AM|Terminal 1|         401535|\n",
            "|   01|2006 12:00:00 AM|Terminal 1|         389745|\n",
            "|   01|2006 12:00:00 AM|Terminal 1|            561|\n",
            "|   01|2006 12:00:00 AM|Terminal 2|          98991|\n",
            "|   01|2006 12:00:00 AM|Terminal 2|         163067|\n",
            "+-----+----------------+----------+---------------+\n",
            "only showing top 5 rows\n",
            "\n"
          ]
        }
      ]
    },
    {
      "cell_type": "code",
      "source": [
        "clean_passengers = passengers.select('Month',split(passengers.Year, ' ')[0].alias('Year'),'Terminal','Passenger_Count')"
      ],
      "metadata": {
        "id": "6zRZOB7aRZdf"
      },
      "execution_count": 14,
      "outputs": []
    },
    {
      "cell_type": "code",
      "source": [
        "clean_passengers.show(2)"
      ],
      "metadata": {
        "colab": {
          "base_uri": "https://localhost:8080/"
        },
        "id": "156ZZJowqoDw",
        "outputId": "e5040651-f47e-4e86-c892-1496f18f9a17"
      },
      "execution_count": 21,
      "outputs": [
        {
          "output_type": "stream",
          "name": "stdout",
          "text": [
            "+-----+----+----------+---------------+\n",
            "|Month|Year|  Terminal|Passenger_Count|\n",
            "+-----+----+----------+---------------+\n",
            "|   01|2006|Terminal 1|         401535|\n",
            "|   01|2006|Terminal 1|         389745|\n",
            "+-----+----+----------+---------------+\n",
            "only showing top 2 rows\n",
            "\n"
          ]
        }
      ]
    },
    {
      "cell_type": "code",
      "source": [
        "group_passengers = clean_passengers.groupBy('Month','Year').agg(sum('Passenger_Count').alias('Passenger_Count'))"
      ],
      "metadata": {
        "id": "bhwSUQx5x-Yl"
      },
      "execution_count": 22,
      "outputs": []
    },
    {
      "cell_type": "code",
      "source": [
        "group_passengers.show(2)"
      ],
      "metadata": {
        "colab": {
          "base_uri": "https://localhost:8080/"
        },
        "id": "Lhvx7hw1ngZo",
        "outputId": "0141dee2-813d-4af1-b851-4b5e80b4c7e5"
      },
      "execution_count": 23,
      "outputs": [
        {
          "output_type": "stream",
          "name": "stdout",
          "text": [
            "+-----+----+---------------+\n",
            "|Month|Year|Passenger_Count|\n",
            "+-----+----+---------------+\n",
            "|   04|2012|        5160973|\n",
            "|   03|2014|        5622137|\n",
            "+-----+----+---------------+\n",
            "only showing top 2 rows\n",
            "\n"
          ]
        }
      ]
    },
    {
      "cell_type": "code",
      "source": [
        "group_passengers.filter(group_passengers.Passenger_Count > 5000000).sort(asc('Month')).show(truncate = False)"
      ],
      "metadata": {
        "colab": {
          "base_uri": "https://localhost:8080/"
        },
        "id": "RRzPk-rVqs3w",
        "outputId": "3f68181e-82d9-4eae-c24f-9b3f1b732ab8"
      },
      "execution_count": 32,
      "outputs": [
        {
          "output_type": "stream",
          "name": "stdout",
          "text": [
            "+-----+----+---------------+\n",
            "|Month|Year|Passenger_Count|\n",
            "+-----+----+---------------+\n",
            "|01   |2017|6213892        |\n",
            "|01   |2014|5263473        |\n",
            "|01   |2016|5869759        |\n",
            "|01   |2015|5339983        |\n",
            "|02   |2016|5280381        |\n",
            "|02   |2017|5387511        |\n",
            "|03   |2007|5240144        |\n",
            "|03   |2017|6525366        |\n",
            "|03   |2012|5252277        |\n",
            "|03   |2006|5088556        |\n",
            "|03   |2008|5232233        |\n",
            "|03   |2013|5385531        |\n",
            "|03   |2014|5622137        |\n",
            "|03   |2015|5916774        |\n",
            "|03   |2016|6277897        |\n",
            "|04   |2007|5172120        |\n",
            "|04   |2006|5085946        |\n",
            "|04   |2012|5160973        |\n",
            "|04   |2016|6109205        |\n",
            "|04   |2015|5746373        |\n",
            "+-----+----+---------------+\n",
            "only showing top 20 rows\n",
            "\n"
          ]
        }
      ]
    },
    {
      "cell_type": "code",
      "source": [],
      "metadata": {
        "id": "fCqx1T8Xq5E4"
      },
      "execution_count": null,
      "outputs": []
    }
  ]
}