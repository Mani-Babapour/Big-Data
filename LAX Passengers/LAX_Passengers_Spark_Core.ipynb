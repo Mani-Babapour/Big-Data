{
  "nbformat": 4,
  "nbformat_minor": 0,
  "metadata": {
    "colab": {
      "provenance": []
    },
    "kernelspec": {
      "name": "python3",
      "display_name": "Python 3"
    },
    "language_info": {
      "name": "python"
    }
  },
  "cells": [
    {
      "cell_type": "code",
      "execution_count": 1,
      "metadata": {
        "id": "dDIztvIKtfT-"
      },
      "outputs": [],
      "source": [
        "from pyspark import SparkContext"
      ]
    },
    {
      "cell_type": "code",
      "source": [
        "sc = SparkContext(master = 'local[*]', appName = 'BusyMonth')"
      ],
      "metadata": {
        "id": "Ry-iNELOt8cv"
      },
      "execution_count": 2,
      "outputs": []
    },
    {
      "cell_type": "code",
      "source": [
        "passengers_rdd = sc.textFile('lax_passengers_header.csv')"
      ],
      "metadata": {
        "id": "XPQAtz2XuowH"
      },
      "execution_count": 3,
      "outputs": []
    },
    {
      "cell_type": "code",
      "source": [
        "passengers_rdd.take(5)"
      ],
      "metadata": {
        "colab": {
          "base_uri": "https://localhost:8080/"
        },
        "id": "NzxgNr16wc4A",
        "outputId": "5bc11f46-df82-43e7-8d51-948dfc1999b8"
      },
      "execution_count": 4,
      "outputs": [
        {
          "output_type": "execute_result",
          "data": {
            "text/plain": [
              "['DataExtractDate,ReportPeriod,Terminal,Arrival_Departure,Domestic_International,Passenger_Count',\n",
              " '05/01/2014 12:00:00 AM,01/01/2006 12:00:00 AM,Imperial Terminal,Arrival,Domestic,490',\n",
              " '05/01/2014 12:00:00 AM,01/01/2006 12:00:00 AM,Imperial Terminal,Departure,Domestic,498',\n",
              " '05/01/2014 12:00:00 AM,01/01/2006 12:00:00 AM,Misc. Terminal,Arrival,Domestic,753',\n",
              " '05/01/2014 12:00:00 AM,01/01/2006 12:00:00 AM,Misc. Terminal,Departure,Domestic,688']"
            ]
          },
          "metadata": {},
          "execution_count": 4
        }
      ]
    },
    {
      "cell_type": "code",
      "source": [
        "passengers_rdd.count()"
      ],
      "metadata": {
        "colab": {
          "base_uri": "https://localhost:8080/"
        },
        "id": "1lbRrDAGA04g",
        "outputId": "73699474-d750-4db5-fcb2-5db68f355b0f"
      },
      "execution_count": 5,
      "outputs": [
        {
          "output_type": "execute_result",
          "data": {
            "text/plain": [
              "5157"
            ]
          },
          "metadata": {},
          "execution_count": 5
        }
      ]
    },
    {
      "cell_type": "code",
      "source": [
        "split_rdd = passengers_rdd.map(lambda x: x.split(',')).filter(lambda x : x[0] != 'DataExtractDate')"
      ],
      "metadata": {
        "id": "F3k1NMefwvu_"
      },
      "execution_count": 6,
      "outputs": []
    },
    {
      "cell_type": "code",
      "source": [
        "split_rdd.take(1)"
      ],
      "metadata": {
        "colab": {
          "base_uri": "https://localhost:8080/"
        },
        "id": "RUFiLoss1wQW",
        "outputId": "da9dc3c0-3aa2-46d2-9a83-416ad4981949"
      },
      "execution_count": 8,
      "outputs": [
        {
          "output_type": "execute_result",
          "data": {
            "text/plain": [
              "[['05/01/2014 12:00:00 AM',\n",
              "  '01/01/2006 12:00:00 AM',\n",
              "  'Imperial Terminal',\n",
              "  'Arrival',\n",
              "  'Domestic',\n",
              "  '490']]"
            ]
          },
          "metadata": {},
          "execution_count": 8
        }
      ]
    },
    {
      "cell_type": "code",
      "source": [
        "report_date_terminal_rdd = split_rdd.map(lambda x: (x[1].split('/'),x[2],x[5]))"
      ],
      "metadata": {
        "id": "xKi1jcmBxvqe"
      },
      "execution_count": 9,
      "outputs": []
    },
    {
      "cell_type": "code",
      "source": [
        "report_date_terminal_rdd.take(5)"
      ],
      "metadata": {
        "colab": {
          "base_uri": "https://localhost:8080/"
        },
        "id": "XchM5uEi5Pqu",
        "outputId": "476b463e-413f-4a36-c180-3ad2a8c21fc2"
      },
      "execution_count": 10,
      "outputs": [
        {
          "output_type": "execute_result",
          "data": {
            "text/plain": [
              "[(['01', '01', '2006 12:00:00 AM'], 'Imperial Terminal', '490'),\n",
              " (['01', '01', '2006 12:00:00 AM'], 'Imperial Terminal', '498'),\n",
              " (['01', '01', '2006 12:00:00 AM'], 'Misc. Terminal', '753'),\n",
              " (['01', '01', '2006 12:00:00 AM'], 'Misc. Terminal', '688'),\n",
              " (['01', '01', '2006 12:00:00 AM'], 'Terminal 1', '401535')]"
            ]
          },
          "metadata": {},
          "execution_count": 10
        }
      ]
    },
    {
      "cell_type": "code",
      "source": [
        "date_terminal_rdd = report_date_terminal_rdd.map(lambda x : (x[0][0], x[0][2].split(' ')[0],x[1], x[2]))"
      ],
      "metadata": {
        "id": "xLXsCygR5KqY"
      },
      "execution_count": 11,
      "outputs": []
    },
    {
      "cell_type": "code",
      "source": [
        "date_terminal_rdd.take(3)"
      ],
      "metadata": {
        "id": "_ss6l4DR5nJG",
        "colab": {
          "base_uri": "https://localhost:8080/"
        },
        "outputId": "d0356e96-cc10-4ce7-9a9f-d8f79c5b438b"
      },
      "execution_count": 12,
      "outputs": [
        {
          "output_type": "execute_result",
          "data": {
            "text/plain": [
              "[('01', '2006', 'Imperial Terminal', '490'),\n",
              " ('01', '2006', 'Imperial Terminal', '498'),\n",
              " ('01', '2006', 'Misc. Terminal', '753')]"
            ]
          },
          "metadata": {},
          "execution_count": 12
        }
      ]
    },
    {
      "cell_type": "code",
      "source": [
        "approved_terminals = [f'Terminal {i}'for i in range(1,9)] + ['Tom Bradley International Terminal']"
      ],
      "metadata": {
        "id": "WDZUKpsa9M73"
      },
      "execution_count": 13,
      "outputs": []
    },
    {
      "cell_type": "code",
      "source": [
        "approved_terminals"
      ],
      "metadata": {
        "colab": {
          "base_uri": "https://localhost:8080/"
        },
        "id": "rkVyPXsE9X_G",
        "outputId": "af030764-c077-406d-b661-471d73fad261"
      },
      "execution_count": 14,
      "outputs": [
        {
          "output_type": "execute_result",
          "data": {
            "text/plain": [
              "['Terminal 1',\n",
              " 'Terminal 2',\n",
              " 'Terminal 3',\n",
              " 'Terminal 4',\n",
              " 'Terminal 5',\n",
              " 'Terminal 6',\n",
              " 'Terminal 7',\n",
              " 'Terminal 8',\n",
              " 'Tom Bradley International Terminal']"
            ]
          },
          "metadata": {},
          "execution_count": 14
        }
      ]
    },
    {
      "cell_type": "code",
      "source": [
        "date_approved_terminals = date_terminal_rdd.filter(lambda x : x[2] in approved_terminals).map(lambda x : (x[0],x[1],x[3]))"
      ],
      "metadata": {
        "id": "iuvskwYq-UV5"
      },
      "execution_count": 38,
      "outputs": []
    },
    {
      "cell_type": "code",
      "source": [
        "date_approved_terminals.take(5)"
      ],
      "metadata": {
        "colab": {
          "base_uri": "https://localhost:8080/"
        },
        "id": "9KWcA8MO-4tI",
        "outputId": "d5073494-5e19-43ad-9660-06ae7948e16d"
      },
      "execution_count": 40,
      "outputs": [
        {
          "output_type": "execute_result",
          "data": {
            "text/plain": [
              "[('01', '2006', '401535'),\n",
              " ('01', '2006', '389745'),\n",
              " ('01', '2006', '561'),\n",
              " ('01', '2006', '98991'),\n",
              " ('01', '2006', '163067')]"
            ]
          },
          "metadata": {},
          "execution_count": 40
        }
      ]
    },
    {
      "cell_type": "code",
      "source": [
        "date_approved_terminals.map(lambda x : ((x[0],x[1]),int(x[2]))).reduceByKey(lambda x,y : x+y).sortByKey()\\\n",
        ".filter(lambda x: x[1]>5000000).map(lambda x : (x[0][0]+\"/\"+x[0][1], x[1])).sortByKey().collect()"
      ],
      "metadata": {
        "colab": {
          "base_uri": "https://localhost:8080/"
        },
        "id": "JiXkfnhLNWiI",
        "outputId": "6d77c58f-78c0-41fa-f9b2-85126a0e4be6"
      },
      "execution_count": 44,
      "outputs": [
        {
          "output_type": "execute_result",
          "data": {
            "text/plain": [
              "[('01/2014', 5263473),\n",
              " ('01/2015', 5339983),\n",
              " ('01/2016', 5869759),\n",
              " ('01/2017', 6213892),\n",
              " ('02/2016', 5280381),\n",
              " ('02/2017', 5387511),\n",
              " ('03/2006', 5088556),\n",
              " ('03/2007', 5240144),\n",
              " ('03/2008', 5232233),\n",
              " ('03/2012', 5252277),\n",
              " ('03/2013', 5385531),\n",
              " ('03/2014', 5622137),\n",
              " ('03/2015', 5916774),\n",
              " ('03/2016', 6277897),\n",
              " ('03/2017', 6525366),\n",
              " ('04/2006', 5085946),\n",
              " ('04/2007', 5172120),\n",
              " ('04/2011', 5028056),\n",
              " ('04/2012', 5160973),\n",
              " ('04/2013', 5157963),\n",
              " ('04/2014', 5614336),\n",
              " ('04/2015', 5746373),\n",
              " ('04/2016', 6109205),\n",
              " ('04/2017', 6640015),\n",
              " ('05/2006', 5176330),\n",
              " ('05/2007', 5256763),\n",
              " ('05/2008', 5247792),\n",
              " ('05/2011', 5476704),\n",
              " ('05/2012', 5412646),\n",
              " ('05/2013', 5557314),\n",
              " ('05/2014', 5925513),\n",
              " ('05/2015', 6148998),\n",
              " ('05/2016', 6571091),\n",
              " ('05/2017', 6933026),\n",
              " ('06/2006', 5509853),\n",
              " ('06/2007', 5626291),\n",
              " ('06/2008', 5538956),\n",
              " ('06/2009', 5040114),\n",
              " ('06/2010', 5311142),\n",
              " ('06/2011', 5631602),\n",
              " ('06/2012', 5739649),\n",
              " ('06/2013', 5947409),\n",
              " ('06/2014', 6373135),\n",
              " ('06/2015', 6579357),\n",
              " ('06/2016', 7230571),\n",
              " ('06/2017', 7470964),\n",
              " ('07/2006', 5919529),\n",
              " ('07/2007', 6052466),\n",
              " ('07/2008', 5790776),\n",
              " ('07/2009', 5603652),\n",
              " ('07/2010', 5692210),\n",
              " ('07/2011', 6071335),\n",
              " ('07/2012', 6190236),\n",
              " ('07/2013', 6292610),\n",
              " ('07/2014', 6709940),\n",
              " ('07/2015', 7063573),\n",
              " ('07/2016', 7621225),\n",
              " ('07/2017', 7910993),\n",
              " ('08/2006', 5745000),\n",
              " ('08/2007', 5939540),\n",
              " ('08/2008', 5714031),\n",
              " ('08/2009', 5437347),\n",
              " ('08/2010', 5617610),\n",
              " ('08/2011', 5918484),\n",
              " ('08/2012', 6093051),\n",
              " ('08/2013', 6160839),\n",
              " ('08/2014', 6595721),\n",
              " ('08/2015', 6902789),\n",
              " ('08/2016', 7344648),\n",
              " ('08/2017', 7674171),\n",
              " ('09/2012', 5053923),\n",
              " ('09/2013', 5159762),\n",
              " ('09/2014', 5478410),\n",
              " ('09/2015', 5852619),\n",
              " ('09/2016', 6375328),\n",
              " ('10/2007', 5069354),\n",
              " ('10/2011', 5124462),\n",
              " ('10/2012', 5190645),\n",
              " ('10/2013', 5386378),\n",
              " ('10/2014', 5766258),\n",
              " ('10/2015', 6183076),\n",
              " ('10/2016', 6629325),\n",
              " ('11/2014', 5288012),\n",
              " ('11/2015', 5838539),\n",
              " ('11/2016', 6272290),\n",
              " ('12/2006', 5070491),\n",
              " ('12/2007', 5186354),\n",
              " ('12/2010', 5045354),\n",
              " ('12/2011', 5025839),\n",
              " ('12/2012', 5176037),\n",
              " ('12/2013', 5606038),\n",
              " ('12/2014', 5825265),\n",
              " ('12/2015', 6196206),\n",
              " ('12/2016', 6640915)]"
            ]
          },
          "metadata": {},
          "execution_count": 44
        }
      ]
    },
    {
      "cell_type": "code",
      "source": [],
      "metadata": {
        "id": "45K4sopv_Txe"
      },
      "execution_count": null,
      "outputs": []
    }
  ]
}