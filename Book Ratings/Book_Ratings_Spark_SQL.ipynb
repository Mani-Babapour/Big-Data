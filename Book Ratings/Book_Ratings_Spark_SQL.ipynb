{
  "nbformat": 4,
  "nbformat_minor": 0,
  "metadata": {
    "colab": {
      "provenance": []
    },
    "kernelspec": {
      "name": "python3",
      "display_name": "Python 3"
    },
    "language_info": {
      "name": "python"
    }
  },
  "cells": [
    {
      "cell_type": "code",
      "execution_count": null,
      "metadata": {
        "id": "6dCvkC8xyQQl"
      },
      "outputs": [],
      "source": [
        "from pyspark.sql import SparkSession\n",
        "from pyspark.sql.functions import *"
      ]
    },
    {
      "cell_type": "code",
      "source": [
        "spark = SparkSession.builder.master('local[*]').appName('BooksRating-SparkSQL').getOrCreate()"
      ],
      "metadata": {
        "id": "Y7WnDQJLyVFu"
      },
      "execution_count": null,
      "outputs": []
    },
    {
      "cell_type": "code",
      "source": [
        "BooksRating = spark.read.csv('Book-Ratings.csv', sep = ';', header = True, inferSchema = True)"
      ],
      "metadata": {
        "id": "IqIvwEOWybpE"
      },
      "execution_count": null,
      "outputs": []
    },
    {
      "cell_type": "code",
      "source": [
        "BooksRating.printSchema()"
      ],
      "metadata": {
        "colab": {
          "base_uri": "https://localhost:8080/"
        },
        "id": "fbYn-FPL03Cs",
        "outputId": "a87fdb69-6ab7-4c46-d8dc-0dd6e53e1b05"
      },
      "execution_count": null,
      "outputs": [
        {
          "output_type": "stream",
          "name": "stdout",
          "text": [
            "root\n",
            " |-- userid: integer (nullable = true)\n",
            " |-- isbn: string (nullable = true)\n",
            " |-- rate: integer (nullable = true)\n",
            "\n"
          ]
        }
      ]
    },
    {
      "cell_type": "code",
      "source": [
        "BooksRating.show(5)"
      ],
      "metadata": {
        "colab": {
          "base_uri": "https://localhost:8080/"
        },
        "id": "_ERJe3sEzpVN",
        "outputId": "d92c86d8-e632-4590-a96a-13f139908f31"
      },
      "execution_count": null,
      "outputs": [
        {
          "output_type": "stream",
          "name": "stdout",
          "text": [
            "+------+----------+----+\n",
            "|userid|      isbn|rate|\n",
            "+------+----------+----+\n",
            "|276725|034545104X|   0|\n",
            "|276726|0155061224|   5|\n",
            "|276727|0446520802|   0|\n",
            "|276729|052165615X|   3|\n",
            "|276729|0521795028|   6|\n",
            "+------+----------+----+\n",
            "only showing top 5 rows\n",
            "\n"
          ]
        }
      ]
    },
    {
      "cell_type": "markdown",
      "source": [
        "AVG of Books"
      ],
      "metadata": {
        "id": "lMGrAlsF5R9w"
      }
    },
    {
      "cell_type": "code",
      "source": [
        "books_rating_avg = BooksRating.groupBy('isbn').avg('rate').withColumnRenamed('avg(rate)','avg_rate')"
      ],
      "metadata": {
        "id": "EeMRC4UJ0FwN"
      },
      "execution_count": null,
      "outputs": []
    },
    {
      "cell_type": "markdown",
      "source": [
        "(username; book title; username’ rate; Book Avg’ rate)"
      ],
      "metadata": {
        "id": "4V5CTnfT5akz"
      }
    },
    {
      "cell_type": "code",
      "source": [
        "books_rating_avg.show(5)"
      ],
      "metadata": {
        "colab": {
          "base_uri": "https://localhost:8080/"
        },
        "id": "8zBKbD_l9FPR",
        "outputId": "17590959-2972-4724-a1b3-a8ff5a28bb84"
      },
      "execution_count": null,
      "outputs": [
        {
          "output_type": "stream",
          "name": "stdout",
          "text": [
            "+----------+------------------+\n",
            "|      isbn|          avg_rate|\n",
            "+----------+------------------+\n",
            "|2080674722|3.6666666666666665|\n",
            "|3499134004|               0.0|\n",
            "|3548603203|3.4166666666666665|\n",
            "|880781112X| 4.333333333333333|\n",
            "|0738205737|1.6666666666666667|\n",
            "+----------+------------------+\n",
            "only showing top 5 rows\n",
            "\n"
          ]
        }
      ]
    },
    {
      "cell_type": "code",
      "source": [
        "users = spark.read.csv('Users.csv', sep=';', header= True, inferSchema = True).withColumnRenamed('UserID','userid')\n",
        "books = spark.read.csv('Books.csv', sep=';', header= True, inferSchema = True)"
      ],
      "metadata": {
        "id": "YBVPljnG1XAv"
      },
      "execution_count": null,
      "outputs": []
    },
    {
      "cell_type": "code",
      "source": [
        "users.show(5)"
      ],
      "metadata": {
        "colab": {
          "base_uri": "https://localhost:8080/"
        },
        "id": "aWeGsoWz6Fcl",
        "outputId": "b2f0e809-b5c4-4411-ccac-7121012c89d9"
      },
      "execution_count": null,
      "outputs": [
        {
          "output_type": "stream",
          "name": "stdout",
          "text": [
            "+------+-----------+--------------------+----+\n",
            "|userid|   USERNAME|            Location| Age|\n",
            "+------+-----------+--------------------+----+\n",
            "|     1|bzsufoRTLN2|  nyc, new york, usa|NULL|\n",
            "|     2|fq7kfHg4VEI|stockton, califor...|  18|\n",
            "|     3|W0Hbkd3xR8v|moscow, yukon ter...|NULL|\n",
            "|     4|W51GahAx5Ap|porto, v.n.gaia, ...|  17|\n",
            "|     5|VKN3PQ18GgN|farnborough, hant...|NULL|\n",
            "+------+-----------+--------------------+----+\n",
            "only showing top 5 rows\n",
            "\n"
          ]
        }
      ]
    },
    {
      "cell_type": "code",
      "source": [
        "books.show()"
      ],
      "metadata": {
        "colab": {
          "base_uri": "https://localhost:8080/"
        },
        "id": "OVLxs_1w6Gcl",
        "outputId": "b3ebd0d5-ab20-4f24-9691-5d2410e6cf70"
      },
      "execution_count": null,
      "outputs": [
        {
          "output_type": "stream",
          "name": "stdout",
          "text": [
            "+----------+--------------------+--------------------+-----------------+--------------------+--------------------+--------------------+--------------------+\n",
            "|      ISBN|           BookTitle|          BookAuthor|YearOfPublication|           Publisher|           ImageURLS|           ImageURLM|           ImageURLL|\n",
            "+----------+--------------------+--------------------+-----------------+--------------------+--------------------+--------------------+--------------------+\n",
            "|0195153448| Classical Mythology|  Mark P. O. Morford|             2002|Oxford University...|http://images.ama...|http://images.ama...|http://images.ama...|\n",
            "|0002005018|        Clara Callan|Richard Bruce Wright|             2001|HarperFlamingo Ca...|http://images.ama...|http://images.ama...|http://images.ama...|\n",
            "|0060973129|Decision in Normandy|        Carlo D'Este|             1991|     HarperPerennial|http://images.ama...|http://images.ama...|http://images.ama...|\n",
            "|0374157065|Flu: The Story of...|    Gina Bari Kolata|             1999|Farrar Straus Giroux|http://images.ama...|http://images.ama...|http://images.ama...|\n",
            "|0393045218|The Mummies of Ur...|     E. J. W. Barber|             1999|   W. W. Norton &amp|             Company|http://images.ama...|http://images.ama...|\n",
            "|0399135782|The Kitchen God's...|             Amy Tan|             1991|    Putnam Pub Group|http://images.ama...|http://images.ama...|http://images.ama...|\n",
            "|0425176428|What If?: The Wor...|       Robert Cowley|             2000|Berkley Publishin...|http://images.ama...|http://images.ama...|http://images.ama...|\n",
            "|0671870432|     PLEADING GUILTY|         Scott Turow|             1993|          Audioworks|http://images.ama...|http://images.ama...|http://images.ama...|\n",
            "|0679425608|Under the Black F...|     David Cordingly|             1996|        Random House|http://images.ama...|http://images.ama...|http://images.ama...|\n",
            "|074322678X|Where You'll Find...|         Ann Beattie|             2002|            Scribner|http://images.ama...|http://images.ama...|http://images.ama...|\n",
            "|0771074670|Nights Below Stat...|David Adams Richards|             1988|     Emblem Editions|http://images.ama...|http://images.ama...|http://images.ama...|\n",
            "|080652121X|Hitler's Secret B...|          Adam Lebor|             2000|       Citadel Press|http://images.ama...|http://images.ama...|http://images.ama...|\n",
            "|0887841740|  The Middle Stories|         Sheila Heti|             2004|House of Anansi P...|http://images.ama...|http://images.ama...|http://images.ama...|\n",
            "|1552041778|            Jane Doe|        R. J. Kaiser|             1999|          Mira Books|http://images.ama...|http://images.ama...|http://images.ama...|\n",
            "|1558746218|A Second Chicken ...|       Jack Canfield|             1998|Health Communicat...|http://images.ama...|http://images.ama...|http://images.ama...|\n",
            "|1567407781|The Witchfinder (...|   Loren D. Estleman|             1998|Brilliance Audio ...|http://images.ama...|http://images.ama...|http://images.ama...|\n",
            "|1575663937|More Cunning Than...|  Robert Hendrickson|             1999|Kensington Publis...|http://images.ama...|http://images.ama...|http://images.ama...|\n",
            "|1881320189|Goodbye to the Bu...|        Julia Oliver|             1994|      River City Pub|http://images.ama...|http://images.ama...|http://images.ama...|\n",
            "|0440234743|       The Testament|        John Grisham|             1999|                Dell|http://images.ama...|http://images.ama...|http://images.ama...|\n",
            "|0452264464|Beloved (Plume Co...|       Toni Morrison|             1994|               Plume|http://images.ama...|http://images.ama...|http://images.ama...|\n",
            "+----------+--------------------+--------------------+-----------------+--------------------+--------------------+--------------------+--------------------+\n",
            "only showing top 20 rows\n",
            "\n"
          ]
        }
      ]
    },
    {
      "cell_type": "code",
      "source": [
        "BooksRating.join(users,['userid']).join(books,['isbn']).join(books_rating_avg,['isbn'])\\\n",
        ".select('USERNAME','BookTitle','rate','avg_rate').show(5)"
      ],
      "metadata": {
        "colab": {
          "base_uri": "https://localhost:8080/"
        },
        "id": "mGCfI_yU6R1F",
        "outputId": "aab269e9-344a-4380-90ab-fd65d7b8d111"
      },
      "execution_count": 94,
      "outputs": [
        {
          "output_type": "stream",
          "name": "stdout",
          "text": [
            "+-----------+--------------------+----+--------+\n",
            "|   USERNAME|           BookTitle|rate|avg_rate|\n",
            "+-----------+--------------------+----+--------+\n",
            "|6chdqlR3DC7|The Way Things Wo...|   8|     8.0|\n",
            "|px70uymJ7k6|     Mog's Christmas|   0|     0.0|\n",
            "|mjteD2ip2Lj|     Mog's Christmas|   0|     0.0|\n",
            "|cHwJip4Kj4k|                Liar|   9|     9.0|\n",
            "|6VUiynjA3tV|The Prime of Miss...|   0|     0.0|\n",
            "+-----------+--------------------+----+--------+\n",
            "only showing top 5 rows\n",
            "\n"
          ]
        }
      ]
    },
    {
      "cell_type": "markdown",
      "source": [
        "## one-line SQL query\n",
        "(username; book title; username’ rate; Book Avg’ rate)"
      ],
      "metadata": {
        "id": "1sMADFqcE7mo"
      }
    },
    {
      "cell_type": "code",
      "source": [
        "BooksRating.createOrReplaceTempView('BooksRating')\n",
        "users.createOrReplaceTempView('users')\n",
        "books.createOrReplaceTempView('books')\n",
        "books_rating_avg.createOrReplaceTempView('books_rating_avg')"
      ],
      "metadata": {
        "id": "LWry_eIv7N3t"
      },
      "execution_count": 90,
      "outputs": []
    },
    {
      "cell_type": "code",
      "source": [
        "spark.sql(\"\"\"\n",
        "SELECT u.USERNAME, b.BookTitle, br.rate, bra.avg_rate\n",
        "FROM BooksRating br\n",
        "JOIN users u ON br.userid = u.userid\n",
        "JOIN books b ON br.isbn = b.isbn\n",
        "JOIN books_rating_avg bra ON br.isbn = bra.isbn\n",
        "LIMIT 5\n",
        "\"\"\").show()"
      ],
      "metadata": {
        "colab": {
          "base_uri": "https://localhost:8080/"
        },
        "id": "9_JNTHWBFsO4",
        "outputId": "589f42d3-bf10-4123-d006-5305c7d5515d"
      },
      "execution_count": 92,
      "outputs": [
        {
          "output_type": "stream",
          "name": "stdout",
          "text": [
            "+-----------+--------------------+----+--------+\n",
            "|   USERNAME|           BookTitle|rate|avg_rate|\n",
            "+-----------+--------------------+----+--------+\n",
            "|6chdqlR3DC7|The Way Things Wo...|   8|     8.0|\n",
            "|px70uymJ7k6|     Mog's Christmas|   0|     0.0|\n",
            "|mjteD2ip2Lj|     Mog's Christmas|   0|     0.0|\n",
            "|cHwJip4Kj4k|                Liar|   9|     9.0|\n",
            "|6VUiynjA3tV|The Prime of Miss...|   0|     0.0|\n",
            "+-----------+--------------------+----+--------+\n",
            "\n"
          ]
        }
      ]
    }
  ]
}