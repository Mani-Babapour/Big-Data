{
  "cells": [
    {
      "cell_type": "code",
      "execution_count": 1,
      "metadata": {
        "id": "NsCFoQCWjA_e"
      },
      "outputs": [],
      "source": [
        "from pyspark.sql import SparkSession\n",
        "from pyspark.sql.functions import *"
      ]
    },
    {
      "cell_type": "code",
      "execution_count": 2,
      "metadata": {
        "id": "jc-92nNwjvI8"
      },
      "outputs": [],
      "source": [
        "spark = SparkSession.builder.master('local[*]').appName('Rates_Array-SparkSQL').getOrCreate()"
      ]
    },
    {
      "cell_type": "code",
      "execution_count": 15,
      "metadata": {
        "id": "Sxm51pwqj4Fx"
      },
      "outputs": [],
      "source": [
        "rate_df = spark.read.csv('Book-Ratings.csv', sep = ';', header = True, inferSchema = True)"
      ]
    },
    {
      "cell_type": "markdown",
      "metadata": {
        "id": "PUJkH4t4rKWL"
      },
      "source": [
        "## 1st Question"
      ]
    },
    {
      "cell_type": "code",
      "execution_count": 50,
      "metadata": {
        "id": "ZJFyzm1Wjz-R"
      },
      "outputs": [],
      "source": [
        "rates_array = rate_df.groupby('isbn').agg(\n",
        "    count(col('rate')).alias('total_ratings'),\n",
        "    count_distinct(col('rate')).alias('unique_ratings'),\n",
        "    collect_list(col('rate')).alias('rates_array')).sort(col('total_ratings').desc())"
      ]
    },
    {
      "cell_type": "code",
      "execution_count": null,
      "metadata": {
        "colab": {
          "base_uri": "https://localhost:8080/"
        },
        "id": "JeFA8DIwnMGy",
        "outputId": "2a88b8ca-2096-4dff-d70d-7d5e6307c94f"
      },
      "outputs": [],
      "source": [
        "rates_array.show(5, truncate = False)"
      ]
    },
    {
      "cell_type": "markdown",
      "metadata": {
        "id": "-6YHb0XwrSJd"
      },
      "source": [
        "## 2nd Question"
      ]
    },
    {
      "cell_type": "code",
      "execution_count": 73,
      "metadata": {
        "colab": {
          "base_uri": "https://localhost:8080/"
        },
        "id": "dR7vB-Kd7phU",
        "outputId": "a62acbd7-12c1-4a57-b295-1cea476f03b1"
      },
      "outputs": [
        {
          "name": "stdout",
          "output_type": "stream",
          "text": [
            "root\n",
            " |-- isbn: string (nullable = true)\n",
            " |-- total_ratings: long (nullable = false)\n",
            " |-- unique_ratings: long (nullable = false)\n",
            " |-- rates_array: array (nullable = false)\n",
            " |    |-- element: integer (containsNull = false)\n",
            "\n"
          ]
        }
      ],
      "source": [
        "rates_array.printSchema()"
      ]
    },
    {
      "cell_type": "code",
      "execution_count": 79,
      "metadata": {
        "colab": {
          "base_uri": "https://localhost:8080/"
        },
        "id": "yPyEmstWrHkc",
        "outputId": "aecafeb9-7a98-42fc-8d92-46cdae26f205"
      },
      "outputs": [
        {
          "name": "stdout",
          "output_type": "stream",
          "text": [
            "+----------+---+\n",
            "|      isbn|col|\n",
            "+----------+---+\n",
            "|0971880107|  0|\n",
            "|0971880107|  0|\n",
            "|0971880107|  0|\n",
            "|0971880107|  2|\n",
            "|0971880107|  0|\n",
            "|0971880107|  0|\n",
            "|0971880107|  0|\n",
            "|0971880107|  0|\n",
            "|0971880107|  0|\n",
            "|0971880107|  0|\n",
            "+----------+---+\n",
            "only showing top 10 rows\n",
            "\n"
          ]
        }
      ],
      "source": [
        "rates_array.select('isbn', explode(col('rates_array'))).show(10)"
      ]
    },
    {
      "cell_type": "code",
      "execution_count": null,
      "metadata": {
        "id": "3NWevqmHr5mz"
      },
      "outputs": [],
      "source": []
    }
  ],
  "metadata": {
    "colab": {
      "provenance": []
    },
    "kernelspec": {
      "display_name": "Python 3",
      "name": "python3"
    },
    "language_info": {
      "name": "python"
    }
  },
  "nbformat": 4,
  "nbformat_minor": 0
}
