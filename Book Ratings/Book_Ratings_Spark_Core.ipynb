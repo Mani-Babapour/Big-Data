{
  "nbformat": 4,
  "nbformat_minor": 0,
  "metadata": {
    "colab": {
      "provenance": []
    },
    "kernelspec": {
      "name": "python3",
      "display_name": "Python 3"
    },
    "language_info": {
      "name": "python"
    }
  },
  "cells": [
    {
      "cell_type": "code",
      "execution_count": 53,
      "metadata": {
        "id": "nTxegEbmSCoa"
      },
      "outputs": [],
      "source": [
        "from pyspark import SparkContext"
      ]
    },
    {
      "cell_type": "code",
      "source": [
        "sc = SparkContext(master = 'local[*]', appName = 'BooksRating')"
      ],
      "metadata": {
        "id": "ZGG0W23GSNfr"
      },
      "execution_count": 18,
      "outputs": []
    },
    {
      "cell_type": "markdown",
      "source": [
        "AVG of Books"
      ],
      "metadata": {
        "id": "UBNEQmtHYxJN"
      }
    },
    {
      "cell_type": "code",
      "source": [
        "BooksRating = sc.textFile('Book-Ratings.csv')"
      ],
      "metadata": {
        "id": "PzPRu0A7XwCC"
      },
      "execution_count": 198,
      "outputs": []
    },
    {
      "cell_type": "code",
      "source": [
        "Split_BooksRating = BooksRating.map(lambda x : x.split(';')).filter(lambda x : x[0] != 'userid')"
      ],
      "metadata": {
        "id": "WH0qyUWPYCgi"
      },
      "execution_count": 199,
      "outputs": []
    },
    {
      "cell_type": "code",
      "source": [
        "Split_BooksRating.count()"
      ],
      "metadata": {
        "colab": {
          "base_uri": "https://localhost:8080/"
        },
        "id": "FZ88uxVedxJH",
        "outputId": "fb37ef77-fb67-414b-bb5e-923a1414455d"
      },
      "execution_count": 200,
      "outputs": [
        {
          "output_type": "execute_result",
          "data": {
            "text/plain": [
              "1149780"
            ]
          },
          "metadata": {},
          "execution_count": 200
        }
      ]
    },
    {
      "cell_type": "code",
      "source": [
        "Split_BooksRating.take(5)"
      ],
      "metadata": {
        "colab": {
          "base_uri": "https://localhost:8080/"
        },
        "id": "Q8OrUClvYHUS",
        "outputId": "7cf843c9-b9ad-4749-e6f3-1b482838e00c"
      },
      "execution_count": 201,
      "outputs": [
        {
          "output_type": "execute_result",
          "data": {
            "text/plain": [
              "[['276725', '034545104X', '0'],\n",
              " ['276726', '0155061224', '5'],\n",
              " ['276727', '0446520802', '0'],\n",
              " ['276729', '052165615X', '3'],\n",
              " ['276729', '0521795028', '6']]"
            ]
          },
          "metadata": {},
          "execution_count": 201
        }
      ]
    },
    {
      "cell_type": "code",
      "source": [
        "books_rate_avg = Split_BooksRating.map(lambda x : (x[1], int(x[2]))).groupByKey().mapValues(list)\\\n",
        ".map(lambda x : (x[0],sum(x[1])/len(x[1])))"
      ],
      "metadata": {
        "id": "zIUlzQXEZeKR"
      },
      "execution_count": 202,
      "outputs": []
    },
    {
      "cell_type": "code",
      "source": [
        "books_rate_avg.take(5)"
      ],
      "metadata": {
        "colab": {
          "base_uri": "https://localhost:8080/"
        },
        "id": "ttOg9__dlnec",
        "outputId": "a066c789-bd42-4ec9-a1e3-334f61aca575"
      },
      "execution_count": 203,
      "outputs": [
        {
          "output_type": "execute_result",
          "data": {
            "text/plain": [
              "[('034545104X', 2.933333333333333),\n",
              " ('0155061224', 2.5),\n",
              " ('0521795028', 6.0),\n",
              " ('0600570967', 6.0),\n",
              " ('342310538', 5.0)]"
            ]
          },
          "metadata": {},
          "execution_count": 203
        }
      ]
    },
    {
      "cell_type": "markdown",
      "source": [
        "(username; book title; username’ rate; Book Avg’ rate)"
      ],
      "metadata": {
        "id": "0Qo0gLcqmkbm"
      }
    },
    {
      "cell_type": "code",
      "source": [
        "users = sc.textFile('Users.csv')\n",
        "books = sc.textFile('Books.csv')"
      ],
      "metadata": {
        "id": "J9EyjNZQl6Rr"
      },
      "execution_count": 258,
      "outputs": []
    },
    {
      "cell_type": "code",
      "source": [
        "map_bookrates = BooksRating.map(lambda x : (x.split(';')[0],x.split(';')[1:]))"
      ],
      "metadata": {
        "id": "7DvTZI8Oo64j"
      },
      "execution_count": 259,
      "outputs": []
    },
    {
      "cell_type": "code",
      "source": [
        "map_bookrates.take(5)"
      ],
      "metadata": {
        "colab": {
          "base_uri": "https://localhost:8080/"
        },
        "id": "NOjE5-ihprzU",
        "outputId": "36e12c50-18c8-4953-d485-ae1e59e933aa"
      },
      "execution_count": 260,
      "outputs": [
        {
          "output_type": "execute_result",
          "data": {
            "text/plain": [
              "[('userid', ['isbn', 'rate']),\n",
              " ('276725', ['034545104X', '0']),\n",
              " ('276726', ['0155061224', '5']),\n",
              " ('276727', ['0446520802', '0']),\n",
              " ('276729', ['052165615X', '3'])]"
            ]
          },
          "metadata": {},
          "execution_count": 260
        }
      ]
    },
    {
      "cell_type": "code",
      "source": [
        "map_users = users.map(lambda x : (x.split(';')[0],x.split(';')[1:]))"
      ],
      "metadata": {
        "id": "1HFJDRkBpwBD"
      },
      "execution_count": 261,
      "outputs": []
    },
    {
      "cell_type": "code",
      "source": [
        "map_users.take(5)"
      ],
      "metadata": {
        "colab": {
          "base_uri": "https://localhost:8080/"
        },
        "id": "7BXmRiGRqKMc",
        "outputId": "1d816956-7a95-4702-cfa9-9b7acbbe871a"
      },
      "execution_count": 262,
      "outputs": [
        {
          "output_type": "execute_result",
          "data": {
            "text/plain": [
              "[('UserID', ['USERNAME', 'Location', 'Age']),\n",
              " ('1', ['bzsufoRTLN2', 'nyc, new york, usa', 'NULL']),\n",
              " ('2', ['fq7kfHg4VEI', 'stockton, california, usa', '18']),\n",
              " ('3', ['W0Hbkd3xR8v', 'moscow, yukon territory, russia', 'NULL']),\n",
              " ('4', ['W51GahAx5Ap', 'porto, v.n.gaia, portugal', '17'])]"
            ]
          },
          "metadata": {},
          "execution_count": 262
        }
      ]
    },
    {
      "cell_type": "code",
      "source": [
        "map_books = books.map(lambda x : (x.split(';')[0],x.split(';')[1:]))"
      ],
      "metadata": {
        "id": "kZ5XNadUq2yr"
      },
      "execution_count": 263,
      "outputs": []
    },
    {
      "cell_type": "code",
      "source": [
        "map_books.take(2)"
      ],
      "metadata": {
        "colab": {
          "base_uri": "https://localhost:8080/"
        },
        "id": "Sev_BaoYq7SD",
        "outputId": "2843fc1e-f949-49bb-f729-db9282674d8e"
      },
      "execution_count": 264,
      "outputs": [
        {
          "output_type": "execute_result",
          "data": {
            "text/plain": [
              "[('ISBN',\n",
              "  ['BookTitle',\n",
              "   'BookAuthor',\n",
              "   'YearOfPublication',\n",
              "   'Publisher',\n",
              "   'ImageURLS',\n",
              "   'ImageURLM',\n",
              "   'ImageURLL']),\n",
              " ('0195153448',\n",
              "  ['Classical Mythology',\n",
              "   'Mark P. O. Morford',\n",
              "   '2002',\n",
              "   'Oxford University Press',\n",
              "   'http://images.amazon.com/images/P/0195153448.01.THUMBZZZ.jpg',\n",
              "   'http://images.amazon.com/images/P/0195153448.01.MZZZZZZZ.jpg',\n",
              "   'http://images.amazon.com/images/P/0195153448.01.LZZZZZZZ.jpg'])]"
            ]
          },
          "metadata": {},
          "execution_count": 264
        }
      ]
    },
    {
      "cell_type": "code",
      "source": [
        "user_rate_join = map_users.join(map_bookrates)"
      ],
      "metadata": {
        "id": "LgougKnfqMW7"
      },
      "execution_count": 265,
      "outputs": []
    },
    {
      "cell_type": "code",
      "source": [
        "rate_user_join.take(5)"
      ],
      "metadata": {
        "colab": {
          "base_uri": "https://localhost:8080/"
        },
        "id": "6Calg5deqffk",
        "outputId": "ea06a766-cc67-437a-ab9d-6c82e83ebcf7"
      },
      "execution_count": 266,
      "outputs": [
        {
          "output_type": "execute_result",
          "data": {
            "text/plain": [
              "[('276725',\n",
              "  (['034545104X', '0'], ['qP0KgArgnkK', 'tyler, texas, usa', 'NULL'])),\n",
              " ('276727',\n",
              "  (['0446520802', '0'],\n",
              "   ['AWJdCVnDLd8', 'h, new south wales, australia', '16'])),\n",
              " ('276744',\n",
              "  (['038550120X', '7'], ['CoM54wt6AiU', 'torrance, california, usa', 'NULL'])),\n",
              " ('276746', (['0425115801', '0'], ['7uxi3eD6COS', 'fort worth, ,', 'NULL'])),\n",
              " ('276746', (['0449006522', '0'], ['7uxi3eD6COS', 'fort worth, ,', 'NULL']))]"
            ]
          },
          "metadata": {},
          "execution_count": 266
        }
      ]
    },
    {
      "cell_type": "code",
      "source": [
        "user_book_rate = rate_user_join.filter(lambda x: x[1] is not None and x[1][0] is not None and x[1][1] is not None) \\\n",
        "                                .map(lambda x: (x[1][1][0], x[1][0][0], x[1][0][1])) \\\n",
        "                                .map(lambda x: (x[1], (x[0], x[2])))"
      ],
      "metadata": {
        "id": "V0pO9lsKr0A7"
      },
      "execution_count": 267,
      "outputs": []
    },
    {
      "cell_type": "code",
      "source": [
        "user_book_rate.take(5)"
      ],
      "metadata": {
        "colab": {
          "base_uri": "https://localhost:8080/"
        },
        "id": "c5O95Fz9t6Ac",
        "outputId": "e4068cc2-737f-4845-83ba-c8a9f3599f8a"
      },
      "execution_count": 268,
      "outputs": [
        {
          "output_type": "execute_result",
          "data": {
            "text/plain": [
              "[('034545104X', ('qP0KgArgnkK', '0')),\n",
              " ('0446520802', ('AWJdCVnDLd8', '0')),\n",
              " ('038550120X', ('CoM54wt6AiU', '7')),\n",
              " ('0425115801', ('7uxi3eD6COS', '0')),\n",
              " ('0449006522', ('7uxi3eD6COS', '0'))]"
            ]
          },
          "metadata": {},
          "execution_count": 268
        }
      ]
    },
    {
      "cell_type": "code",
      "source": [
        "final_join = user_book_rate.join(books_rate_avg).join(map_books)"
      ],
      "metadata": {
        "id": "QsPaknuywUts"
      },
      "execution_count": 272,
      "outputs": []
    },
    {
      "cell_type": "code",
      "source": [
        "final_join.take(1)"
      ],
      "metadata": {
        "colab": {
          "base_uri": "https://localhost:8080/"
        },
        "id": "aEB0ISRx5WmV",
        "outputId": "68d068c1-461b-44df-ffbb-d233dd3cc71a"
      },
      "execution_count": 273,
      "outputs": [
        {
          "output_type": "execute_result",
          "data": {
            "text/plain": [
              "[('0571058086',\n",
              "  ((('KCOjXv3RxBK', '0'), 2.375),\n",
              "   ['Waiting for Godot',\n",
              "    'Samuel Beckett',\n",
              "    '0',\n",
              "    'Faber Faber Inc',\n",
              "    'http://images.amazon.com/images/P/0571058086.01.THUMBZZZ.jpg',\n",
              "    'http://images.amazon.com/images/P/0571058086.01.MZZZZZZZ.jpg',\n",
              "    'http://images.amazon.com/images/P/0571058086.01.LZZZZZZZ.jpg']))]"
            ]
          },
          "metadata": {},
          "execution_count": 273
        }
      ]
    },
    {
      "cell_type": "code",
      "source": [
        "final_rdd = final_join.map(lambda x : (x[1][0][0][0], x[1][1][0],x[1][0][0][1], x[1][0][1]))"
      ],
      "metadata": {
        "id": "KVKDP19Q9Dl-"
      },
      "execution_count": 292,
      "outputs": []
    },
    {
      "cell_type": "code",
      "source": [
        "final_rdd.take(10)"
      ],
      "metadata": {
        "colab": {
          "base_uri": "https://localhost:8080/"
        },
        "id": "WRb4sU9J9UEf",
        "outputId": "a79c0923-b9a0-4ccd-d805-837cc802a29a"
      },
      "execution_count": 293,
      "outputs": [
        {
          "output_type": "execute_result",
          "data": {
            "text/plain": [
              "[('KCOjXv3RxBK', 'Waiting for Godot', '0', 2.375),\n",
              " ('CpOVZu1havb', 'Waiting for Godot', '10', 2.375),\n",
              " ('SELfAm7q9Iy', 'Waiting for Godot', '0', 2.375),\n",
              " ('d9jDCzsKYgM', 'Waiting for Godot', '0', 2.375),\n",
              " ('Ez0pZozqpv7', 'Waiting for Godot', '0', 2.375),\n",
              " ('aSMoX2Rk1zM', 'Waiting for Godot', '0', 2.375),\n",
              " ('I7ywUfQ6jdh', 'Waiting for Godot', '3', 2.375),\n",
              " ('ZC4Hk0GMggk', 'Waiting for Godot', '6', 2.375),\n",
              " ('PtKCXWxrZjk', 'False Memory', '10', 2.972972972972973),\n",
              " ('s8pY65csbH5', 'False Memory', '0', 2.972972972972973)]"
            ]
          },
          "metadata": {},
          "execution_count": 293
        }
      ]
    },
    {
      "cell_type": "code",
      "source": [],
      "metadata": {
        "id": "ApPu3kuh-Pd2"
      },
      "execution_count": null,
      "outputs": []
    }
  ]
}