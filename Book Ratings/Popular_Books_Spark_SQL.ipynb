{
  "nbformat": 4,
  "nbformat_minor": 0,
  "metadata": {
    "colab": {
      "provenance": []
    },
    "kernelspec": {
      "name": "python3",
      "display_name": "Python 3"
    },
    "language_info": {
      "name": "python"
    }
  },
  "cells": [
    {
      "cell_type": "code",
      "execution_count": 1,
      "metadata": {
        "id": "B9ghrxTbAgrh"
      },
      "outputs": [],
      "source": [
        "from pyspark.sql import SparkSession\n",
        "from pyspark.sql.functions import *"
      ]
    },
    {
      "cell_type": "code",
      "source": [
        "spark = SparkSession.builder.master('local[*]').appName('Popular_Books').getOrCreate()"
      ],
      "metadata": {
        "id": "0DvGdY1ABP6j"
      },
      "execution_count": 2,
      "outputs": []
    },
    {
      "cell_type": "code",
      "source": [
        "rating_df = spark.read.csv('Book-Ratings.csv', sep= ';', header= True, inferSchema= True)"
      ],
      "metadata": {
        "id": "DnKcJ384BpT7"
      },
      "execution_count": 3,
      "outputs": []
    },
    {
      "cell_type": "code",
      "source": [
        "rating_df.show(5)"
      ],
      "metadata": {
        "colab": {
          "base_uri": "https://localhost:8080/"
        },
        "id": "7aDGwGFwB8dn",
        "outputId": "78e500d3-2edc-463e-ba73-367834e356e8"
      },
      "execution_count": 4,
      "outputs": [
        {
          "output_type": "stream",
          "name": "stdout",
          "text": [
            "+------+----------+----+\n",
            "|userid|      isbn|rate|\n",
            "+------+----------+----+\n",
            "|276725|034545104X|   0|\n",
            "|276726|0155061224|   5|\n",
            "|276727|0446520802|   0|\n",
            "|276729|052165615X|   3|\n",
            "|276729|0521795028|   6|\n",
            "+------+----------+----+\n",
            "only showing top 5 rows\n",
            "\n"
          ]
        }
      ]
    },
    {
      "cell_type": "code",
      "source": [
        "popular_books = rating_df.groupBy(\"isbn\").agg(count(\"rate\").alias(\"rating_count\"),\n",
        "        avg(\"rate\").alias(\"avg_rating\"))\\\n",
        "    .filter((col(\"rating_count\") > 100) & (col(\"avg_rating\") > 5))\\\n",
        "    .withColumn(\"popularity_score\", col(\"avg_rating\") * col(\"rating_count\")).orderBy(\"popularity_score\", ascending=False)"
      ],
      "metadata": {
        "id": "Qdy5KRusBTVM"
      },
      "execution_count": 17,
      "outputs": []
    },
    {
      "cell_type": "code",
      "source": [
        "popular_books.show(10)"
      ],
      "metadata": {
        "colab": {
          "base_uri": "https://localhost:8080/"
        },
        "id": "4vWaBgnzB-Js",
        "outputId": "d232a78e-fc3c-40fd-c274-c3428eff8bd2"
      },
      "execution_count": 20,
      "outputs": [
        {
          "output_type": "stream",
          "name": "stdout",
          "text": [
            "+----------+------------+------------------+-----------------+\n",
            "|      isbn|rating_count|        avg_rating| popularity_score|\n",
            "+----------+------------+------------------+-----------------+\n",
            "|043935806X|         334|  5.57185628742515|           1861.0|\n",
            "|0345339681|         281|  5.00711743772242|           1407.0|\n",
            "|0439136350|         197| 6.467005076142132|           1274.0|\n",
            "|0439139597|         194| 6.541237113402062|           1269.0|\n",
            "|0439136369|         226| 5.345132743362832|           1208.0|\n",
            "|0439064864|         170|6.6117647058823525|           1124.0|\n",
            "|0590353403|         168| 6.363095238095238|           1069.0|\n",
            "|0812550706|         195| 5.302564102564102|           1034.0|\n",
            "|0439139600|         193| 5.103626943005182|985.0000000000001|\n",
            "|0671027344|         103| 5.194174757281553|            535.0|\n",
            "+----------+------------+------------------+-----------------+\n",
            "\n"
          ]
        }
      ]
    }
  ]
}